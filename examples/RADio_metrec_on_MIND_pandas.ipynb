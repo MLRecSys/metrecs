{
 "cells": [
  {
   "cell_type": "markdown",
   "metadata": {
    "toc": true
   },
   "source": [
    "<h1>Table of Contents<span class=\"tocSkip\"></span></h1>\n",
    "<div class=\"toc\"><ul class=\"toc-item\"></ul></div>"
   ]
  },
  {
   "cell_type": "code",
   "execution_count": 16,
   "metadata": {
    "ExecuteTime": {
     "end_time": "2023-03-07T15:00:20.382813Z",
     "start_time": "2023-03-07T15:00:18.110938Z"
    },
    "application/vnd.databricks.v1+cell": {
     "cellMetadata": {},
     "inputWidgets": {},
     "nuid": "fda62179-b1d3-498d-bd30-94ef80de57f8",
     "showTitle": false,
     "title": ""
    }
   },
   "outputs": [
    {
     "name": "stdout",
     "output_type": "stream",
     "text": [
      "The autoreload extension is already loaded. To reload it, use:\n",
      "  %reload_ext autoreload\n"
     ]
    }
   ],
   "source": [
    "import os\n",
    "import sys\n",
    "import datetime\n",
    "import time\n",
    "import numpy as np\n",
    "import math\n",
    "import pandas as pd\n",
    "import matplotlib.pyplot as plt\n",
    "import seaborn as sns\n",
    "from typing import Tuple, List\n",
    "\n",
    "from utils import mind as dataset\n",
    "\n",
    "%load_ext autoreload\n",
    "%autoreload 2\n",
    "\n",
    "if 'src' not in sys.path:\n",
    "    sys.path.append('src')\n",
    "\n",
    "from metrecs.utils import (\n",
    "    harmonic_number,\n",
    "    normalized_scaled_harmonic_number_series,\n",
    "    compute_normalized_distribution_multiple_categories,\n",
    "    opt_merge_max_mappings,\n",
    "    avoid_distribution_misspecification,\n",
    "    user_level_RADio_multicategorical\n",
    ")"
   ]
  },
  {
   "cell_type": "code",
   "execution_count": 17,
   "metadata": {
    "application/vnd.databricks.v1+cell": {
     "cellMetadata": {},
     "inputWidgets": {},
     "nuid": "daa9e53b-becc-41a6-8110-5b19a7e79a26",
     "showTitle": false,
     "title": ""
    }
   },
   "outputs": [],
   "source": [
    "def get_classic_calibration(\n",
    "    pred_preselection_df: pd.DataFrame,\n",
    "    articles_df: pd.DataFrame,\n",
    "    behaviors_presel_df: pd.DataFrame,\n",
    "    cat_column: str,\n",
    "    top_at: int,\n",
    ") -> pd.DataFrame:\n",
    "    df_cat = dataset.get_cat(\n",
    "        pred_preselection_df,\n",
    "        articles_df,\n",
    "        \"pred_slice_id\",\n",
    "        cat_column,\n",
    "        top_at,\n",
    "        slice_col=True,\n",
    "    )\n",
    "\n",
    "    df_cat_history = dataset.get_cat(\n",
    "        behaviors_presel_df[[\"index\", \"user\", \"behavior_array\"]],\n",
    "        articles_df,\n",
    "        \"behavior_array\",\n",
    "        cat_column,\n",
    "        top_at,\n",
    "        slice_col=False,\n",
    "    )\n",
    "    df_cat_history = df_cat_history.rename(\n",
    "        columns={\n",
    "            \"sorted_cat_list\": \"history_cat_list\",\n",
    "            \"sorted_newsid_list\": \"history_newsid_list\",\n",
    "        }\n",
    "    )\n",
    "\n",
    "    df_calibration = df_cat.merge(df_cat_history, on=[\"index\", \"user\"], how=\"inner\")\n",
    "\n",
    "    df_calibration[\"calibration\"] = df_calibration.apply(\n",
    "        lambda row: user_level_RADio_multicategorical(\n",
    "            row[\"sorted_cat_list\"],\n",
    "            row[\"history_cat_list\"],\n",
    "            list(normalized_scaled_harmonic_number_series(len(row[\"sorted_cat_list\"]))),\n",
    "        ),\n",
    "        axis=1,\n",
    "    )\n",
    "    return df_calibration\n",
    "\n",
    "\n",
    "def get_classic_representation(\n",
    "    pred_preselection_df: pd.DataFrame,\n",
    "    articles_df: pd.DataFrame,\n",
    "    behaviors_presel_df: pd.DataFrame,\n",
    "    cat_column: str,\n",
    "    top_at: int,\n",
    ") -> pd.DataFrame:\n",
    "    df_cat = dataset.get_cat(\n",
    "        pred_preselection_df,\n",
    "        articles_df,\n",
    "        \"pred_slice_id\",\n",
    "        cat_column,\n",
    "        top_at,\n",
    "        slice_col=True,\n",
    "    )\n",
    "\n",
    "    df_cat_pool = dataset.get_cat(\n",
    "        behaviors_presel_df[[\"index\", \"user\", \"pool_array\"]],\n",
    "        articles_df,\n",
    "        \"pool_array\",\n",
    "        cat_column,\n",
    "        top_at,\n",
    "        slice_col=False,\n",
    "    )\n",
    "    df_cat_pool = df_cat_pool.rename(\n",
    "        columns={\n",
    "            \"sorted_cat_list\": \"pool_cat_list\",\n",
    "            \"sorted_newsid_list\": \"pool_newsid_list\",\n",
    "        }\n",
    "    )\n",
    "\n",
    "    df_representation = df_cat.merge(df_cat_pool, on=[\"index\", \"user\"], how=\"inner\")\n",
    "\n",
    "    df_representation[\"representation\"] = df_representation.apply(\n",
    "        lambda row: user_level_RADio_multicategorical(\n",
    "            row[\"sorted_cat_list\"],\n",
    "            row[\"pool_cat_list\"],\n",
    "            list(normalized_scaled_harmonic_number_series(len(row[\"sorted_cat_list\"]))),\n",
    "        ),\n",
    "        axis=1,\n",
    "    )\n",
    "\n",
    "    return df_representation\n",
    "\n",
    "\n",
    "def get_classic_fragmentation(\n",
    "    pred_preselection_df: pd.DataFrame,\n",
    "    articles_df: pd.DataFrame,\n",
    "    cat_column: str,\n",
    "    top_at: int,\n",
    "    sample_size: float = 0.05,\n",
    ") -> pd.DataFrame:\n",
    "    df_cat = dataset.get_cat(\n",
    "        pred_preselection_df,\n",
    "        articles_df,\n",
    "        \"pred_slice_id\",\n",
    "        cat_column,\n",
    "        top_at,\n",
    "        slice_col=True,\n",
    "    )\n",
    "    df_cat2 = df_cat.sample(frac=0.01).rename(\n",
    "        columns={\n",
    "            \"index\": \"other_index\",\n",
    "            \"user\": \"other_user\",\n",
    "            \"sorted_cat_list\": \"rec_cat_list\",\n",
    "            \"sorted_newsid_list\": \"rec_newsid\",\n",
    "            \"algo\": \"other_algo\",\n",
    "        }\n",
    "    )\n",
    "    df_cat[\"key\"] = 0\n",
    "    df_cat2[\"key\"] = 0\n",
    "\n",
    "    df_cat_cat = df_cat.merge(df_cat2, on=\"key\", how=\"outer\")\n",
    "    df_cat_cat = df_cat_cat.drop([\"key\"], axis=1)\n",
    "    df_cat_cat = df_cat_cat[df_cat_cat[\"index\"] != df_cat_cat[\"other_index\"]]\n",
    "\n",
    "    df_cat_cat[\"fragmentation_detail\"] = df_cat_cat.apply(\n",
    "        lambda row: user_level_RADio_multicategorical(\n",
    "            row[\"sorted_cat_list\"],\n",
    "            row[\"rec_cat_list\"],\n",
    "            list(normalized_scaled_harmonic_number_series(len(row[\"sorted_cat_list\"]))),\n",
    "            list(normalized_scaled_harmonic_number_series(len(row[\"rec_cat_list\"]))),\n",
    "        ),\n",
    "        axis=1,\n",
    "    )\n",
    "    df_fragmentation = df_cat_cat.groupby([\"index\", \"user\", \"algo\"]).agg(\n",
    "        {\"fragmentation_detail\": \"mean\"}\n",
    "    )\n",
    "    df_fragmentation = df_fragmentation.rename(\n",
    "        columns={\"fragmentation_detail\": \"fragmentation\"}\n",
    "    ).reset_index()\n",
    "    return df_fragmentation\n"
   ]
  },
  {
   "cell_type": "code",
   "execution_count": 21,
   "metadata": {
    "application/vnd.databricks.v1+cell": {
     "cellMetadata": {},
     "inputWidgets": {},
     "nuid": "8d30e990-81b4-4626-a348-46881ded6c4a",
     "showTitle": false,
     "title": ""
    }
   },
   "outputs": [],
   "source": [
    "def read_recommendations_and_calculate_metrics(\n",
    "        articles_df: pd.DataFrame,\n",
    "        behaviors_presel_df: pd.DataFrame,\n",
    "        suffix: str,\n",
    "        algos: List[str],\n",
    "        top_at: int=10,\n",
    "        NR_BINS: int=200,\n",
    "        path_prediction: str = 'examples/MIND/recommendations/'\n",
    "    ) -> Tuple[pd.DataFrame, pd.DataFrame, pd.DataFrame]:\n",
    "    df_calibration_all = pd.DataFrame()\n",
    "    df_representation_all = pd.DataFrame()\n",
    "    df_fragmentation_all = pd.DataFrame()\n",
    "\n",
    "    for algo in algos:\n",
    "        print (f'Processing algorithm {algo}')\n",
    "        PATH_PRED = path_prediction+algo+'_pred_'+suffix+'.json'\n",
    "        pred_df, pred_preselection_df = dataset.read_predictions(\n",
    "            PATH_PRED, behaviors_presel_df, top_k = top_at, algo = algo\n",
    "        )\n",
    "\n",
    "        df_calibration = get_classic_calibration(\n",
    "            pred_preselection_df, articles_df, behaviors_presel_df, 'cat_as_list', top_at\n",
    "        )\n",
    "        df_calibration = df_calibration[['index','user','calibration','algo']]\n",
    "\n",
    "        df_calibration_all = pd.concat([df_calibration_all, df_calibration], ignore_index=True)\n",
    "\n",
    "        df_representation = get_classic_representation(pred_preselection_df, articles_df, behaviors_presel_df, 'cat_subcat', top_at)\n",
    "        df_representation = df_representation[['index','user','representation','algo']]\n",
    "        df_representation_all = pd.concat([df_representation_all, df_representation], ignore_index=True)\n",
    "\n",
    "        df_fragmentation = get_classic_fragmentation(pred_preselection_df, articles_df, 'cat_subcat', top_at, sample_size=0.02)\n",
    "        df_fragmentation_all = pd.concat([df_fragmentation_all, df_fragmentation], ignore_index=True)\n",
    "\n",
    "    df_calibration_all['calibration_bin'] = df_calibration_all.apply(lambda row: round(row['calibration']*NR_BINS,0)/NR_BINS, axis=1)\n",
    "\n",
    "    df_representation_all['representation_bin'] = df_representation_all.apply(lambda row: round(row['representation']*NR_BINS,0)/NR_BINS, axis=1)\n",
    "\n",
    "    if df_fragmentation_all.shape[0] > 0:\n",
    "        df_fragmentation_all['fragmentation_bin'] = df_fragmentation_all.apply(lambda row: round(row['fragmentation']*NR_BINS,0)/NR_BINS, axis=1)\n",
    "\n",
    "    return (\n",
    "        df_calibration_all,\n",
    "        df_representation_all,\n",
    "        df_fragmentation_all\n",
    "    )"
   ]
  },
  {
   "cell_type": "code",
   "execution_count": 19,
   "metadata": {
    "application/vnd.databricks.v1+cell": {
     "cellMetadata": {},
     "inputWidgets": {},
     "nuid": "af51ef9c-63cb-4cf6-bf4d-87227da44aca",
     "showTitle": false,
     "title": ""
    }
   },
   "outputs": [
    {
     "name": "stdout",
     "output_type": "stream",
     "text": [
      "Nr of unique articles 68392\n"
     ]
    }
   ],
   "source": [
    "SUFFIX = 'small'\n",
    "PATH_BEHAVIOURS = 'examples/MIND/behaviors_' + SUFFIX + '.tsv'\n",
    "PATH_ARTICLES = 'examples/MIND/articles_large_narrow.json'\n",
    "\n",
    "articles_df = dataset.read_articles(path=PATH_ARTICLES)\n",
    "behaviors_presel_df = dataset.read_behavior(path=PATH_BEHAVIOURS)"
   ]
  },
  {
   "cell_type": "code",
   "execution_count": 24,
   "metadata": {},
   "outputs": [],
   "source": [
    "algos = ['pop', 'lstur', 'pop', 'naml', 'npa', 'nrms']"
   ]
  },
  {
   "cell_type": "code",
   "execution_count": 25,
   "metadata": {},
   "outputs": [
    {
     "name": "stdout",
     "output_type": "stream",
     "text": [
      "pop\n",
      "lstur\n",
      "pop\n",
      "naml\n",
      "npa\n",
      "nrms\n"
     ]
    }
   ],
   "source": [
    "# This will take some time due to fragmentation (around 35 min)\n",
    "PATH_PRED = 'examples/MIND/recommendations/'\n",
    "df_calibration_all, df_representation_all, df_fragmentation_all = read_recommendations_and_calculate_metrics(\n",
    "    articles_df,\n",
    "    behaviors_presel_df,\n",
    "    sufix = SUFFIX,\n",
    "    algos = algos,\n",
    "    top_at =\n",
    "    10,\n",
    "    NR_BINS = 200,\n",
    "    path_prediction=PATH_PRED\n",
    ")"
   ]
  },
  {
   "cell_type": "code",
   "execution_count": 35,
   "metadata": {},
   "outputs": [],
   "source": [
    "df_calibration_all.to_parquet('./examples/results/MIND/calibration.parquet')\n",
    "df_representation_all.to_parquet('./examples/results/MIND/representation.parquet')\n",
    "df_fragmentation_all.to_parquet('./examples/results/MIND/fragmentation.parquet')"
   ]
  },
  {
   "cell_type": "code",
   "execution_count": 36,
   "metadata": {},
   "outputs": [],
   "source": [
    "calibration_agg_df = df_calibration_all.groupby(['algo', 'calibration_bin']).agg({'index':'count'})\n",
    "calibration_agg_df = calibration_agg_df.rename(columns={'index':'count'}).reset_index()\n",
    "\n",
    "representation_agg_df = df_representation_all.groupby(['algo', 'representation_bin']).agg({'index':'count'})\n",
    "representation_agg_df = representation_agg_df.rename(columns={'index':'count'}).reset_index()\n",
    "\n",
    "fragmentation_agg_df = df_fragmentation_all.groupby(['algo', 'fragmentation_bin']).agg({'index':'count'})\n",
    "fragmentation_agg_df = fragmentation_agg_df.rename(columns={'index':'count'}).reset_index()"
   ]
  },
  {
   "cell_type": "code",
   "execution_count": 27,
   "metadata": {
    "application/vnd.databricks.v1+cell": {
     "cellMetadata": {},
     "inputWidgets": {},
     "nuid": "3f874013-51af-4c73-b811-c81928d8c3af",
     "showTitle": false,
     "title": ""
    }
   },
   "outputs": [
    {
     "data": {
      "image/png": "[encoded data removed]",
      "text/plain": [
       "<Figure size 432x288 with 1 Axes>"
      ]
     },
     "metadata": {
      "needs_background": "light"
     },
     "output_type": "display_data"
    }
   ],
   "source": [
    "df = df_calibration_all\n",
    "\n",
    "# Plot the histogram tahanks to the histplot function\n",
    "sns.histplot(data=df.loc[(df[\"algo\"] == \"lstur\"), [\"calibration\"]], bins=200, x=\"calibration\", color=\"red\", label=\"lstur\", kde=False)\n",
    "sns.histplot(data=df.loc[(df[\"algo\"] == \"nrms\"), [\"calibration\"]], bins=200, x=\"calibration\", color=\"green\", label=\"nrms\", kde=False)\n",
    "sns.histplot(data=df.loc[(df[\"algo\"] == \"naml\"), [\"calibration\"]], bins=200, x=\"calibration\", color=\"orange\", label=\"naml\", kde=False)\n",
    "sns.histplot(data=df.loc[(df[\"algo\"] == \"npa\"), [\"calibration\"]], bins=200, x=\"calibration\", color=\"purple\", label=\"npa\", kde=False)\n",
    "sns.histplot(data=df.loc[(df[\"algo\"] == \"pop\"), [\"calibration\"]], bins=200, x=\"calibration\", color=\"skyblue\", label=\"pop\", kde=False)\n",
    "\n",
    "plt.title(\"Calibration distribution\")\n",
    "  \n",
    "plt.legend(['lstur', 'nrms', 'naml', 'npa', 'pop'])\n",
    "  \n",
    "plt.show()"
   ]
  },
  {
   "cell_type": "code",
   "execution_count": 28,
   "metadata": {
    "application/vnd.databricks.v1+cell": {
     "cellMetadata": {},
     "inputWidgets": {},
     "nuid": "f5f36c9f-99b4-48d1-9e2c-69bebd563b3e",
     "showTitle": false,
     "title": ""
    }
   },
   "outputs": [
    {
     "data": {
      "text/html": [
       "<div>\n",
       "<style scoped>\n",
       "    .dataframe tbody tr th:only-of-type {\n",
       "        vertical-align: middle;\n",
       "    }\n",
       "\n",
       "    .dataframe tbody tr th {\n",
       "        vertical-align: top;\n",
       "    }\n",
       "\n",
       "    .dataframe thead th {\n",
       "        text-align: right;\n",
       "    }\n",
       "</style>\n",
       "<table border=\"1\" class=\"dataframe\">\n",
       "  <thead>\n",
       "    <tr style=\"text-align: right;\">\n",
       "      <th></th>\n",
       "      <th>algo</th>\n",
       "      <th>calibration_mean</th>\n",
       "      <th>calibration_std</th>\n",
       "    </tr>\n",
       "  </thead>\n",
       "  <tbody>\n",
       "    <tr>\n",
       "      <th>0</th>\n",
       "      <td>lstur</td>\n",
       "      <td>0.584647</td>\n",
       "      <td>0.146389</td>\n",
       "    </tr>\n",
       "    <tr>\n",
       "      <th>1</th>\n",
       "      <td>naml</td>\n",
       "      <td>0.584609</td>\n",
       "      <td>0.147834</td>\n",
       "    </tr>\n",
       "    <tr>\n",
       "      <th>2</th>\n",
       "      <td>npa</td>\n",
       "      <td>0.585289</td>\n",
       "      <td>0.146212</td>\n",
       "    </tr>\n",
       "    <tr>\n",
       "      <th>3</th>\n",
       "      <td>nrms</td>\n",
       "      <td>0.580380</td>\n",
       "      <td>0.145948</td>\n",
       "    </tr>\n",
       "    <tr>\n",
       "      <th>4</th>\n",
       "      <td>pop</td>\n",
       "      <td>0.583852</td>\n",
       "      <td>0.147156</td>\n",
       "    </tr>\n",
       "  </tbody>\n",
       "</table>\n",
       "</div>"
      ],
      "text/plain": [
       "    algo  calibration_mean  calibration_std\n",
       "0  lstur          0.584647         0.146389\n",
       "1   naml          0.584609         0.147834\n",
       "2    npa          0.585289         0.146212\n",
       "3   nrms          0.580380         0.145948\n",
       "4    pop          0.583852         0.147156"
      ]
     },
     "execution_count": 28,
     "metadata": {},
     "output_type": "execute_result"
    }
   ],
   "source": [
    "calibration_mean_std = df_calibration_all.groupby('algo').agg({'calibration':'mean'}).merge(\n",
    "                        df_calibration_all.groupby('algo').agg({'calibration':'std'}), on='algo')\n",
    "calibration_mean_std = calibration_mean_std.rename(columns={'calibration_x':'calibration_mean', \n",
    "                                                            'calibration_y':'calibration_std'}).reset_index()\n",
    "calibration_mean_std"
   ]
  },
  {
   "cell_type": "code",
   "execution_count": 29,
   "metadata": {
    "application/vnd.databricks.v1+cell": {
     "cellMetadata": {},
     "inputWidgets": {},
     "nuid": "480ba5fc-b78c-4c7c-9bfa-08e3cd6ecf42",
     "showTitle": false,
     "title": ""
    }
   },
   "outputs": [
    {
     "data": {
      "image/png": "[encoded data removed]",
      "text/plain": [
       "<Figure size 432x288 with 1 Axes>"
      ]
     },
     "metadata": {
      "needs_background": "light"
     },
     "output_type": "display_data"
    }
   ],
   "source": [
    "df = df_representation_all\n",
    "\n",
    "sns.histplot(data=df.loc[(df[\"algo\"] == \"lstur\"), [\"representation\"]], bins=200, x=\"representation\", color=\"red\", label=\"lstur\", kde=False)\n",
    "sns.histplot(data=df.loc[(df[\"algo\"] == \"nrms\"), [\"representation\"]], bins=200, x=\"representation\", color=\"green\", label=\"nrms\", kde=False)\n",
    "sns.histplot(data=df.loc[(df[\"algo\"] == \"naml\"), [\"representation\"]], bins=200, x=\"representation\", color=\"orange\", label=\"naml\", kde=False)\n",
    "sns.histplot(data=df.loc[(df[\"algo\"] == \"npa\"), [\"representation\"]], bins=200, x=\"representation\", color=\"purple\", label=\"npa\", kde=False)\n",
    "sns.histplot(data=df.loc[(df[\"algo\"] == \"pop\"), [\"representation\"]], bins=200, x=\"representation\", color=\"skyblue\", label=\"pop\", kde=False)\n",
    "\n",
    "plt.title(\"Representation distribution\")\n",
    "  \n",
    "plt.legend(['lstur', 'nrms', 'naml', 'npa', 'pop'])\n",
    "  \n",
    "plt.show()"
   ]
  },
  {
   "cell_type": "code",
   "execution_count": 30,
   "metadata": {
    "application/vnd.databricks.v1+cell": {
     "cellMetadata": {},
     "inputWidgets": {},
     "nuid": "b424610f-b497-4b91-9587-f8c7932bb7a0",
     "showTitle": false,
     "title": ""
    }
   },
   "outputs": [
    {
     "data": {
      "text/html": [
       "<div>\n",
       "<style scoped>\n",
       "    .dataframe tbody tr th:only-of-type {\n",
       "        vertical-align: middle;\n",
       "    }\n",
       "\n",
       "    .dataframe tbody tr th {\n",
       "        vertical-align: top;\n",
       "    }\n",
       "\n",
       "    .dataframe thead th {\n",
       "        text-align: right;\n",
       "    }\n",
       "</style>\n",
       "<table border=\"1\" class=\"dataframe\">\n",
       "  <thead>\n",
       "    <tr style=\"text-align: right;\">\n",
       "      <th></th>\n",
       "      <th>algo</th>\n",
       "      <th>representation_mean</th>\n",
       "      <th>representation_std</th>\n",
       "    </tr>\n",
       "  </thead>\n",
       "  <tbody>\n",
       "    <tr>\n",
       "      <th>0</th>\n",
       "      <td>lstur</td>\n",
       "      <td>0.471451</td>\n",
       "      <td>0.095339</td>\n",
       "    </tr>\n",
       "    <tr>\n",
       "      <th>1</th>\n",
       "      <td>naml</td>\n",
       "      <td>0.468553</td>\n",
       "      <td>0.096186</td>\n",
       "    </tr>\n",
       "    <tr>\n",
       "      <th>2</th>\n",
       "      <td>npa</td>\n",
       "      <td>0.476683</td>\n",
       "      <td>0.097911</td>\n",
       "    </tr>\n",
       "    <tr>\n",
       "      <th>3</th>\n",
       "      <td>nrms</td>\n",
       "      <td>0.476347</td>\n",
       "      <td>0.096935</td>\n",
       "    </tr>\n",
       "    <tr>\n",
       "      <th>4</th>\n",
       "      <td>pop</td>\n",
       "      <td>0.476303</td>\n",
       "      <td>0.090945</td>\n",
       "    </tr>\n",
       "  </tbody>\n",
       "</table>\n",
       "</div>"
      ],
      "text/plain": [
       "    algo  representation_mean  representation_std\n",
       "0  lstur             0.471451            0.095339\n",
       "1   naml             0.468553            0.096186\n",
       "2    npa             0.476683            0.097911\n",
       "3   nrms             0.476347            0.096935\n",
       "4    pop             0.476303            0.090945"
      ]
     },
     "execution_count": 30,
     "metadata": {},
     "output_type": "execute_result"
    }
   ],
   "source": [
    "representation_mean_std = df_representation_all.groupby('algo').agg({'representation':'mean'}).merge(\n",
    "                        df_representation_all.groupby('algo').agg({'representation':'std'}), on='algo')\n",
    "representation_mean_std = representation_mean_std.rename(columns={'representation_x':'representation_mean', \n",
    "                                                            'representation_y':'representation_std'}).reset_index()\n",
    "representation_mean_std"
   ]
  },
  {
   "cell_type": "code",
   "execution_count": 31,
   "metadata": {},
   "outputs": [
    {
     "data": {
      "image/png": "[encoded data removed]",
      "text/plain": [
       "<Figure size 432x288 with 1 Axes>"
      ]
     },
     "metadata": {
      "needs_background": "light"
     },
     "output_type": "display_data"
    }
   ],
   "source": [
    "df = df_fragmentation_all\n",
    "  \n",
    "sns.histplot(data=df.loc[(df[\"algo\"] == \"lstur\"), [\"fragmentation\"]], bins=200, x=\"fragmentation\", color=\"red\", label=\"lstur\", kde=False)\n",
    "sns.histplot(data=df.loc[(df[\"algo\"] == \"nrms\"), [\"fragmentation\"]], bins=200, x=\"fragmentation\", color=\"green\", label=\"nrms\", kde=False)\n",
    "sns.histplot(data=df.loc[(df[\"algo\"] == \"naml\"), [\"fragmentation\"]], bins=200, x=\"fragmentation\", color=\"orange\", label=\"naml\", kde=False)\n",
    "sns.histplot(data=df.loc[(df[\"algo\"] == \"npa\"), [\"fragmentation\"]], bins=200, x=\"fragmentation\", color=\"purple\", label=\"npa\", kde=False)\n",
    "sns.histplot(data=df.loc[(df[\"algo\"] == \"pop\"), [\"fragmentation\"]], bins=200, x=\"fragmentation\", color=\"skyblue\", label=\"pop\", kde=False)\n",
    "\n",
    "plt.title(\"Fragmentation distribution\")\n",
    "  \n",
    "plt.legend(['lstur', 'nrms', 'naml', 'npa', 'pop'])\n",
    "  \n",
    "plt.show()"
   ]
  },
  {
   "cell_type": "code",
   "execution_count": 32,
   "metadata": {},
   "outputs": [
    {
     "data": {
      "text/html": [
       "<div>\n",
       "<style scoped>\n",
       "    .dataframe tbody tr th:only-of-type {\n",
       "        vertical-align: middle;\n",
       "    }\n",
       "\n",
       "    .dataframe tbody tr th {\n",
       "        vertical-align: top;\n",
       "    }\n",
       "\n",
       "    .dataframe thead th {\n",
       "        text-align: right;\n",
       "    }\n",
       "</style>\n",
       "<table border=\"1\" class=\"dataframe\">\n",
       "  <thead>\n",
       "    <tr style=\"text-align: right;\">\n",
       "      <th></th>\n",
       "      <th>algo</th>\n",
       "      <th>fragmentation_mean</th>\n",
       "      <th>fragmentation_std</th>\n",
       "    </tr>\n",
       "  </thead>\n",
       "  <tbody>\n",
       "    <tr>\n",
       "      <th>0</th>\n",
       "      <td>lstur</td>\n",
       "      <td>0.714545</td>\n",
       "      <td>0.038469</td>\n",
       "    </tr>\n",
       "    <tr>\n",
       "      <th>1</th>\n",
       "      <td>naml</td>\n",
       "      <td>0.712892</td>\n",
       "      <td>0.038955</td>\n",
       "    </tr>\n",
       "    <tr>\n",
       "      <th>2</th>\n",
       "      <td>npa</td>\n",
       "      <td>0.713956</td>\n",
       "      <td>0.041249</td>\n",
       "    </tr>\n",
       "    <tr>\n",
       "      <th>3</th>\n",
       "      <td>nrms</td>\n",
       "      <td>0.709370</td>\n",
       "      <td>0.041287</td>\n",
       "    </tr>\n",
       "    <tr>\n",
       "      <th>4</th>\n",
       "      <td>pop</td>\n",
       "      <td>0.704661</td>\n",
       "      <td>0.034769</td>\n",
       "    </tr>\n",
       "  </tbody>\n",
       "</table>\n",
       "</div>"
      ],
      "text/plain": [
       "    algo  fragmentation_mean  fragmentation_std\n",
       "0  lstur            0.714545           0.038469\n",
       "1   naml            0.712892           0.038955\n",
       "2    npa            0.713956           0.041249\n",
       "3   nrms            0.709370           0.041287\n",
       "4    pop            0.704661           0.034769"
      ]
     },
     "execution_count": 32,
     "metadata": {},
     "output_type": "execute_result"
    }
   ],
   "source": [
    "fragmentation_mean_std = df_fragmentation_all.groupby('algo').agg({'fragmentation':'mean'}).merge(\n",
    "                        df_fragmentation_all.groupby('algo').agg({'fragmentation':'std'}), on='algo')\n",
    "fragmentation_mean_std = fragmentation_mean_std.rename(columns={'fragmentation_x':'fragmentation_mean', \n",
    "                                                            'fragmentation_y':'fragmentation_std'}).reset_index()\n",
    "fragmentation_mean_std"
   ]
  },
  {
   "cell_type": "code",
   "execution_count": null,
   "metadata": {},
   "outputs": [],
   "source": []
  }
 ],
 "metadata": {
  "application/vnd.databricks.v1+notebook": {
   "dashboards": [],
   "language": "python",
   "notebookMetadata": {
    "pythonIndentUnit": 2
   },
   "notebookName": "RADio metrec with MIND",
   "notebookOrigID": 3720487088895143,
   "widgets": {}
  },
  "kernelspec": {
   "display_name": "Python 3",
   "language": "python",
   "name": "python3"
  },
  "language_info": {
   "codemirror_mode": {
    "name": "ipython",
    "version": 3
   },
   "file_extension": ".py",
   "mimetype": "text/x-python",
   "name": "python",
   "nbconvert_exporter": "python",
   "pygments_lexer": "ipython3",
   "version": "3.7.10"
  },
  "toc": {
   "base_numbering": 1,
   "nav_menu": {},
   "number_sections": true,
   "sideBar": true,
   "skip_h1_title": false,
   "title_cell": "Table of Contents",
   "title_sidebar": "Contents",
   "toc_cell": true,
   "toc_position": {},
   "toc_section_display": true,
   "toc_window_display": false
  },
  "varInspector": {
   "cols": {
    "lenName": 16,
    "lenType": 16,
    "lenVar": 40
   },
   "kernels_config": {
    "python": {
     "delete_cmd_postfix": "",
     "delete_cmd_prefix": "del ",
     "library": "var_list.py",
     "varRefreshCmd": "print(var_dic_list())"
    },
    "r": {
     "delete_cmd_postfix": ") ",
     "delete_cmd_prefix": "rm(",
     "library": "var_list.r",
     "varRefreshCmd": "cat(var_dic_list()) "
    }
   },
   "types_to_exclude": [
    "module",
    "function",
    "builtin_function_or_method",
    "instance",
    "_Feature"
   ],
   "window_display": false
  },
  "vscode": {
   "interpreter": {
    "hash": "38cca0c38332a56087b24af0bc80247f4fced29cb4f7f437d91dc159adec9c4e"
   }
  }
 },
 "nbformat": 4,
 "nbformat_minor": 1
}
