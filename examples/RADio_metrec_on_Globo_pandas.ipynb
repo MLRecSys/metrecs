{
 "cells": [
  {
   "cell_type": "markdown",
   "metadata": {
    "toc": true
   },
   "source": [
    "<h1>Table of Contents<span class=\"tocSkip\"></span></h1>\n",
    "<div class=\"toc\"><ul class=\"toc-item\"></ul></div>"
   ]
  },
  {
   "cell_type": "code",
   "execution_count": 1,
   "metadata": {
    "ExecuteTime": {
     "end_time": "2023-05-06T22:24:36.532017Z",
     "start_time": "2023-05-06T22:24:32.124802Z"
    },
    "application/vnd.databricks.v1+cell": {
     "cellMetadata": {},
     "inputWidgets": {},
     "nuid": "fda62179-b1d3-498d-bd30-94ef80de57f8",
     "showTitle": false,
     "title": ""
    }
   },
   "outputs": [],
   "source": [
    "import datetime\n",
    "import time\n",
    "import numpy as np\n",
    "import math\n",
    "import os\n",
    "import pandas as pd\n",
    "import matplotlib.pyplot as plt\n",
    "import seaborn as sns"
   ]
  },
  {
   "cell_type": "code",
   "execution_count": 2,
   "metadata": {
    "ExecuteTime": {
     "end_time": "2023-05-06T22:24:36.537724Z",
     "start_time": "2023-05-06T22:24:36.533935Z"
    }
   },
   "outputs": [],
   "source": [
    "import sys\n",
    "sys.path.insert(1, '../src/')"
   ]
  },
  {
   "cell_type": "code",
   "execution_count": 3,
   "metadata": {
    "ExecuteTime": {
     "end_time": "2023-05-06T22:24:36.575924Z",
     "start_time": "2023-05-06T22:24:36.550879Z"
    }
   },
   "outputs": [],
   "source": [
    "from metrecs.utils import (\n",
    "    harmonic_number,\n",
    "    normalized_scaled_harmonic_number_series,\n",
    "    compute_normalized_distribution_multiple_categories,\n",
    "    opt_merge_max_mappings,\n",
    "    avoid_distribution_misspecification,\n",
    "    user_level_RADio_multicategorical\n",
    ")"
   ]
  },
  {
   "cell_type": "code",
   "execution_count": 4,
   "metadata": {
    "ExecuteTime": {
     "end_time": "2023-05-06T22:24:36.652007Z",
     "start_time": "2023-05-06T22:24:36.599337Z"
    },
    "application/vnd.databricks.v1+cell": {
     "cellMetadata": {},
     "inputWidgets": {},
     "nuid": "daa9e53b-becc-41a6-8110-5b19a7e79a26",
     "showTitle": false,
     "title": ""
    }
   },
   "outputs": [],
   "source": [
    "def read_globo_articles(path: str) -> pd.DataFrame:\n",
    "    articles_df = pd.read_parquet(path)\n",
    "    #articles_df2 = articles_df.drop(['body'], axis=1)\n",
    "    #articles_df2.to_parquet(current_dir+'/Globo/new_file.parquet')\n",
    "\n",
    "    articles_df['category'] = \"news\"\n",
    "    articles_df['subcategory'] = articles_df[\"topics\"].apply(lambda row: [] if len(row) == 0 else row[0])\n",
    "    #articles_df[articles_df[\"topics\"].apply(lambda x: len(x)) == 0]\n",
    "\n",
    "    articles_df['cat_subcat'] = articles_df['topics']\n",
    "    articles_df.rename(columns={\"newsID\":\"newsid\", \"topics\":\"cat_as_list\"}, inplace=True)\n",
    "    print('Nr of unique articles', articles_df.newsid.unique().size) \n",
    "    return articles_df\n",
    "\n",
    "def text_to_array(text: pd.Series, rgx_exp: str) -> pd.Series:\n",
    "    return str(text).split(rgx_exp)\n",
    "\n",
    "def read_behavior_globo(path: str) -> pd.DataFrame:\n",
    "    behaviors_presel_df = pd.read_parquet(path)\n",
    "    #behaviors_presel_df.rename(columns={\"impressionId\":\"index\", \"history\":\"behavior_array\", \"impressions\":\"preselection_array\", \"impressionsRaw\":\"pool_array\", \"userId\":\"user\"}, inplace=True)\n",
    "    behaviors_presel_df.rename(columns={\"impressionId\":\"index\", \"history\":\"behavior_array\", \"impressions\":\"pool_array\", \"userId\":\"user\"}, inplace=True)\n",
    "    #behaviors_presel_df.set_index(\"index\", inplace=True)\n",
    "    behaviors_presel_df[\"datetime\"] = behaviors_presel_df[\"impressionTimestamp\"].apply(lambda x : datetime.datetime.fromtimestamp(x/1000))\n",
    "    return behaviors_presel_df\n",
    "\n",
    "def get_top_rec_ids_array(pred_df: pd.DataFrame, behaviors_presel_df: pd.DataFrame, top_k: int) -> pd.DataFrame:\n",
    "    # Create a df with one row per user that contains only the top_k recommendations, that is the newsid and not the position of the preselection\n",
    "    pred_df = pred_df[pred_df['size_list'] >= top_k]\n",
    "    pred_preselection_df = pred_df.merge(behaviors_presel_df[['index', 'user', 'pool_array']], on='index')\n",
    "    pred_preselection_df['pred_slice_id'] = pred_preselection_df.apply((lambda x: [str(x['pool_array'][indx]) for indx, ele in enumerate(x['pred_rank'])]), axis=1)\n",
    "#    pred_preselection_df['pred_slice_id'] = pred_preselection_df.apply((lambda x: [str(x['pool_array'][indx]) for indx, ele in enumerate(x['pred_rank']) if ele <= top_k]), axis=1)\n",
    "    pred_preselection_df = pred_preselection_df.drop(['pool_array', 'pred_rank'], axis=1)\n",
    "    return pred_preselection_df\n",
    "\n",
    "def read_predictions(path_predictions: str, behaviors_presel_df: pd.DataFrame, top_k: int, algo: str) -> tuple[pd.DataFrame, pd.DataFrame]:\n",
    "    pred_df = pd.read_parquet(path_predictions)\n",
    "    pred_df['pred_rank'] = pred_df['impressions']\n",
    "    pred_df = pred_df.rename(columns={\"impr_index\": \"index\"})\n",
    "#    pred_df.set_index('index', inplace=True)\n",
    "    pred_df.drop(columns=['impressions', 'positions'], inplace=True)\n",
    "    pred_df['size_list'] = pred_df['pred_rank'].apply(len)\n",
    "    pred_df['algo'] = algo\n",
    "    pred_preselection_df = get_top_rec_ids_array(pred_df, behaviors_presel_df, top_k = 2*top_k)\n",
    "    return pred_df, pred_preselection_df"
   ]
  },
  {
   "cell_type": "code",
   "execution_count": 5,
   "metadata": {
    "ExecuteTime": {
     "end_time": "2023-05-06T22:24:36.751297Z",
     "start_time": "2023-05-06T22:24:36.733721Z"
    },
    "application/vnd.databricks.v1+cell": {
     "cellMetadata": {},
     "inputWidgets": {},
     "nuid": "d0fceea2-28d9-4f95-a410-da0fa050f29f",
     "showTitle": false,
     "title": ""
    }
   },
   "outputs": [],
   "source": [
    "def get_cat(df: pd.DataFrame, articles_df: pd.DataFrame, column: str, cat_column: str, top_at: int, slice_col: bool=False) -> pd.DataFrame:                  \n",
    "    s = pd.DataFrame({column: np.concatenate(df[column].values)}, index = df.index.repeat(df[column].str.len()))\n",
    "    df_exploded = s.join(df.drop(column, axis=1), how='left')\n",
    "    df_exploded['rank'] = df_exploded.groupby(df_exploded.index).cumcount()#+1 # commented out because rank is related to the index of a list\n",
    "    df_exploded = df_exploded.rename(columns={column: \"newsid\"})\n",
    "\n",
    "    articles_df_thin = articles_df[['newsid', cat_column]].copy(deep=True)\n",
    "    articles_df_thin[cat_column] = articles_df_thin[cat_column].apply(tuple)\n",
    "    articles_df_thin = articles_df_thin.drop_duplicates()\n",
    "    articles_df_thin[cat_column] = articles_df_thin[cat_column].apply(list)\n",
    "    \n",
    "    df_cat = df_exploded.merge(articles_df_thin, on='newsid', how='inner')\n",
    "    \n",
    "    df_cat = df_cat.sort_values(by=['index', 'rank'])\n",
    "    df_cat1 = df_cat.groupby('index')[cat_column].apply(list).reset_index(name='sorted_cat_list')\n",
    "    df_cat2 = df_cat.groupby('index')['newsid'].apply(list).reset_index(name='sorted_newsid_list')\n",
    "    df_cat = df_cat1.merge(df_cat2, on='index')\n",
    "\n",
    "    df_cat = df_cat.merge(df.drop(column, axis=1), on='index')\n",
    "    if slice_col:\n",
    "        df_cat['size_newsid_list'] = df_cat['sorted_newsid_list'].apply(len)\n",
    "#        df_cat = df_cat[df_cat['size_newsid_list'] >= 10]\n",
    "        df_cat = df_cat[df_cat['size_newsid_list'] >= 1]\n",
    "        df_cat['sorted_cat_list'] = df_cat.apply(lambda row: list(row['sorted_cat_list'])[0:top_at], axis=1)\n",
    "        df_cat['sorted_newsid_list'] = df_cat.apply(lambda row: list(row['sorted_newsid_list'])[0:top_at], axis=1)\n",
    "        df_cat['size_cat_list'] = df_cat['sorted_cat_list'].apply(len)\n",
    "#        df_cat = df_cat[df_cat['size_cat_list'] >= 10]\n",
    "        df_cat = df_cat[df_cat['size_cat_list'] >= 1]\n",
    "    return df_cat"
   ]
  },
  {
   "cell_type": "code",
   "execution_count": 6,
   "metadata": {
    "ExecuteTime": {
     "end_time": "2023-05-06T22:24:36.830507Z",
     "start_time": "2023-05-06T22:24:36.757331Z"
    },
    "application/vnd.databricks.v1+cell": {
     "cellMetadata": {},
     "inputWidgets": {},
     "nuid": "2968b198-2313-49e7-8a82-1f4b4cc4a898",
     "showTitle": false,
     "title": ""
    }
   },
   "outputs": [],
   "source": [
    "def get_classic_calibration(pred_preselection_df: pd.DataFrame, articles_df: pd.DataFrame, behaviors_presel_df: pd.DataFrame, cat_column: str, top_at: int) -> pd.DataFrame:\n",
    "    df_cat = get_cat(pred_preselection_df, articles_df, 'pred_slice_id', cat_column, top_at, slice_col=True)\n",
    "    \n",
    "    df_cat_history = get_cat(behaviors_presel_df[['index', 'user', 'behavior_array']], articles_df, 'behavior_array', cat_column, top_at, slice_col=False)\n",
    "    df_cat_history = df_cat_history.rename(columns={'sorted_cat_list': 'history_cat_list', 'sorted_newsid_list': 'history_newsid_list'})\n",
    "    \n",
    "    df_calibration = df_cat.merge(df_cat_history, on=['index', 'user'], how='inner')\n",
    "    \n",
    "    df_calibration['calibration'] = df_calibration.apply(lambda row: user_level_RADio_multicategorical(row['sorted_cat_list'], \n",
    "                                                                                                       row['history_cat_list'], \n",
    "                                                                                                       list(normalized_scaled_harmonic_number_series(len(row['sorted_cat_list'])))\n",
    "                                                                                                       ), axis=1)\n",
    "    return df_calibration\n",
    "\n",
    "def get_classic_representation(pred_preselection_df: pd.DataFrame, articles_df: pd.DataFrame, behaviors_presel_df: pd.DataFrame, cat_column: str, top_at: int) -> pd.DataFrame:\n",
    "    df_cat = get_cat(pred_preselection_df, articles_df, 'pred_slice_id', cat_column, top_at, slice_col=True)\n",
    "    \n",
    "    df_cat_pool = get_cat(behaviors_presel_df[['index', 'user', 'pool_array']], articles_df, 'pool_array', cat_column, top_at, slice_col=False)\n",
    "    df_cat_pool = df_cat_pool.rename(columns={'sorted_cat_list': 'pool_cat_list', 'sorted_newsid_list': 'pool_newsid_list'})\n",
    "    \n",
    "    df_representation = df_cat.merge(df_cat_pool, on=['index', 'user'], how='inner')\n",
    "    \n",
    "    df_representation['representation'] = df_representation.apply(lambda row: user_level_RADio_multicategorical(row['sorted_cat_list'], \n",
    "                                                                                                                row['pool_cat_list'], \n",
    "                                                                                                                list(normalized_scaled_harmonic_number_series(len(row['sorted_cat_list'])))\n",
    "                                                                                                                ), axis=1)\n",
    "\n",
    "    return df_representation\n",
    "\n",
    "def get_classic_fragmentation(pred_preselection_df: pd.DataFrame, articles_df: pd.DataFrame, cat_column: str, top_at: int, sample_size: float=0.05) -> pd.DataFrame:\n",
    "    df_cat = get_cat(pred_preselection_df, articles_df, 'pred_slice_id', cat_column, top_at, slice_col=True)\n",
    "    df_cat2 = df_cat.sample(frac=0.01).rename(columns={'index':'other_index', 'user':'other_user', 'sorted_cat_list': 'rec_cat_list', 'sorted_newsid_list': 'rec_newsid', 'algo': 'other_algo'})\n",
    "    df_cat['key'] = 0\n",
    "    df_cat2['key'] = 0\n",
    "\n",
    "    df_cat_cat = df_cat.merge(df_cat2, on='key', how='outer')\n",
    "    df_cat_cat = df_cat_cat.drop(['key'], axis=1) \n",
    "    df_cat_cat = df_cat_cat[df_cat_cat['index'] != df_cat_cat['other_index']]\n",
    "    \n",
    "    df_cat_cat['fragmentation_detail'] = df_cat_cat.apply(lambda row: user_level_RADio_multicategorical(row['sorted_cat_list'], \n",
    "                                                                                                        row['rec_cat_list'], \n",
    "                                                                                                        list(normalized_scaled_harmonic_number_series(len(row['sorted_cat_list']))),\n",
    "                                                                                                        list(normalized_scaled_harmonic_number_series(len(row['rec_cat_list'])))\n",
    "                                                                                                        ), axis=1)\n",
    "    df_fragmentation = df_cat_cat.groupby(['index', 'user', 'algo']).agg({'fragmentation_detail':'mean'})\n",
    "    df_fragmentation = df_fragmentation.rename(columns={'fragmentation_detail':'fragmentation'})\\\n",
    "                                       .reset_index()\n",
    "    return df_fragmentation"
   ]
  },
  {
   "cell_type": "code",
   "execution_count": 7,
   "metadata": {
    "ExecuteTime": {
     "end_time": "2023-05-06T22:24:37.068183Z",
     "start_time": "2023-05-06T22:24:36.840166Z"
    },
    "application/vnd.databricks.v1+cell": {
     "cellMetadata": {},
     "inputWidgets": {},
     "nuid": "8d30e990-81b4-4626-a348-46881ded6c4a",
     "showTitle": false,
     "title": ""
    }
   },
   "outputs": [],
   "source": [
    "def read_recommendations_and_calculate_metrics(articles_df: pd.DataFrame, behaviors_presel_df: pd.DataFrame, sufix: str, algos: list[str], top_at: int=10, NR_BINS: int=200, path_prediction: str = 'examples/Globo/recommendations/') -> tuple[pd.DataFrame, pd.DataFrame, pd.DataFrame, pd.DataFrame, pd.DataFrame, pd.DataFrame]:\n",
    "    df_calibration_all = None\n",
    "    df_representation_all = None\n",
    "    df_fragmentation_all = None\n",
    "\n",
    "    for algo in algos:\n",
    "        PATH_PRED = path_prediction+algo+'_pred_'+sufix+'.parquet'\n",
    "        pred_df, pred_preselection_df = read_predictions(PATH_PRED, behaviors_presel_df, top_k = top_at, algo = algo)\n",
    "        print(algo)\n",
    "\n",
    "        df_calibration = get_classic_calibration(pred_preselection_df, articles_df, behaviors_presel_df, 'cat_as_list', top_at)\n",
    "        df_calibration = df_calibration[['index','user','calibration','algo']]\n",
    "        if df_calibration_all is None:\n",
    "            df_calibration_all = df_calibration\n",
    "        else:\n",
    "            df_calibration_all = pd.concat([df_calibration_all, df_calibration], ignore_index=True)\n",
    "\n",
    "        #return pred_preselection_df, articles_df, behaviors_presel_df, top_at\n",
    "            \n",
    "        df_representation = get_classic_representation(pred_preselection_df, articles_df, behaviors_presel_df, 'cat_subcat', top_at)\n",
    "        df_representation = df_representation[['index','user','representation','algo']]\n",
    "        if df_representation_all is None:\n",
    "            df_representation_all = df_representation\n",
    "        else:\n",
    "            df_representation_all = pd.concat([df_representation_all, df_representation], ignore_index=True)\n",
    "\n",
    "        df_fragmentation = get_classic_fragmentation(pred_preselection_df, articles_df, 'cat_subcat', top_at, sample_size=0.02)\n",
    "        if df_fragmentation_all is None:\n",
    "            df_fragmentation_all = df_fragmentation\n",
    "        else:\n",
    "            df_fragmentation_all = pd.concat([df_fragmentation_all, df_fragmentation], ignore_index=True)\n",
    "    \n",
    "    df_calibration_all['calibration_bin'] = df_calibration_all.apply(lambda row: round(row['calibration']*NR_BINS,0)/NR_BINS, axis=1)\n",
    "    calibration_agg_df = df_calibration_all.groupby(['algo', 'calibration_bin']).agg({'index':'count'})\n",
    "    calibration_agg_df = calibration_agg_df.rename(columns={'index':'count'}).reset_index()\n",
    "    \n",
    "    df_representation_all['representation_bin'] = df_representation_all.apply(lambda row: round(row['representation']*NR_BINS,0)/NR_BINS, axis=1)\n",
    "    representation_agg_df = df_representation_all.groupby(['algo', 'representation_bin']).agg({'index':'count'})\n",
    "    representation_agg_df = representation_agg_df.rename(columns={'index':'count'}).reset_index()\n",
    "    \n",
    "    fragmentation_agg_df = None\n",
    "    if df_fragmentation_all is not None:\n",
    "        df_fragmentation_all['fragmentation_bin'] = df_fragmentation_all.apply(lambda row: round(row['fragmentation']*NR_BINS,0)/NR_BINS, axis=1)\n",
    "        fragmentation_agg_df = df_fragmentation_all.groupby(['algo', 'fragmentation_bin']).agg({'index':'count'})\n",
    "        fragmentation_agg_df = fragmentation_agg_df.rename(columns={'index':'count'}).reset_index()\n",
    "    return df_calibration_all, calibration_agg_df, df_representation_all, representation_agg_df, df_fragmentation_all, fragmentation_agg_df"
   ]
  },
  {
   "cell_type": "code",
   "execution_count": 8,
   "metadata": {
    "ExecuteTime": {
     "end_time": "2023-05-06T22:24:39.390688Z",
     "start_time": "2023-05-06T22:24:37.076859Z"
    },
    "application/vnd.databricks.v1+cell": {
     "cellMetadata": {},
     "inputWidgets": {},
     "nuid": "af51ef9c-63cb-4cf6-bf4d-87227da44aca",
     "showTitle": false,
     "title": ""
    }
   },
   "outputs": [
    {
     "name": "stdout",
     "output_type": "stream",
     "text": [
      "Nr of unique articles 19529\n"
     ]
    }
   ],
   "source": [
    "current_dir = os.getcwd() \n",
    "sufix = 'small'\n",
    "PATH_BEHAVIOURS = current_dir+'/Globo/behaviors_'+sufix+'.parquet'\n",
    "PATH_ARTICLES = current_dir+'/Globo/articles_without_body_small.parquet'\n",
    "\n",
    "articles_df = read_globo_articles(path=PATH_ARTICLES)\n",
    "behaviors_presel_df = read_behavior_globo(path=PATH_BEHAVIOURS)"
   ]
  },
  {
   "cell_type": "code",
   "execution_count": 9,
   "metadata": {
    "ExecuteTime": {
     "end_time": "2023-05-06T22:24:39.407881Z",
     "start_time": "2023-05-06T22:24:39.398272Z"
    }
   },
   "outputs": [],
   "source": [
    "#behaviors_presel_df.head()"
   ]
  },
  {
   "cell_type": "code",
   "execution_count": 10,
   "metadata": {
    "ExecuteTime": {
     "end_time": "2023-05-06T22:24:39.443081Z",
     "start_time": "2023-05-06T22:24:39.420434Z"
    }
   },
   "outputs": [
    {
     "data": {
      "text/plain": [
       "(76571, 16)"
      ]
     },
     "execution_count": 10,
     "metadata": {},
     "output_type": "execute_result"
    }
   ],
   "source": [
    "behaviors_presel_df.shape"
   ]
  },
  {
   "cell_type": "code",
   "execution_count": 11,
   "metadata": {
    "ExecuteTime": {
     "end_time": "2023-05-06T22:24:39.454212Z",
     "start_time": "2023-05-06T22:24:39.446698Z"
    }
   },
   "outputs": [],
   "source": [
    "#Changes\n",
    "##1. top_at = 1 x top_at = 10"
   ]
  },
  {
   "cell_type": "code",
   "execution_count": 12,
   "metadata": {
    "ExecuteTime": {
     "end_time": "2023-05-06T22:25:32.424897Z",
     "start_time": "2023-05-06T22:24:39.457161Z"
    }
   },
   "outputs": [
    {
     "name": "stdout",
     "output_type": "stream",
     "text": [
      "als\n",
      "recents\n",
      "top24h\n"
     ]
    }
   ],
   "source": [
    "# This will take some time due to fragmentation (around 35 min)\n",
    "PATH_PRED = current_dir+'/Globo/recommendations/'\n",
    "df_calibration_all, calibration_agg_df, df_representation_all, representation_agg_df, df_fragmentation_all, fragmentation_agg_df = read_recommendations_and_calculate_metrics( articles_df, behaviors_presel_df, sufix = sufix, algos = ['als', 'recents', 'top24h'], top_at = 1, NR_BINS = 200, path_prediction=PATH_PRED)\n",
    "#pred_preselection_df, articles_df, behaviors_presel_df, top_at = read_recommendations_and_calculate_metrics( articles_df, behaviors_presel_df, sufix = sufix, algos = ['als', 'recents', 'top24h'], top_at = 1, NR_BINS = 200, path_prediction=PATH_PRED)\n"
   ]
  },
  {
   "cell_type": "code",
   "execution_count": 13,
   "metadata": {
    "ExecuteTime": {
     "end_time": "2023-05-06T22:25:33.581430Z",
     "start_time": "2023-05-06T22:25:32.427542Z"
    },
    "application/vnd.databricks.v1+cell": {
     "cellMetadata": {},
     "inputWidgets": {},
     "nuid": "3f874013-51af-4c73-b811-c81928d8c3af",
     "showTitle": false,
     "title": ""
    }
   },
   "outputs": [
    {
     "data": {
      "image/png": "[encoded data removed]",
      "text/plain": [
       "<Figure size 432x288 with 1 Axes>"
      ]
     },
     "metadata": {
      "needs_background": "light"
     },
     "output_type": "display_data"
    }
   ],
   "source": [
    "df = df_calibration_all\n",
    "\n",
    "# Plot the histogram thanks to the histplot function\n",
    "sns.histplot(data=df.loc[(df[\"algo\"] == \"als\"), [\"calibration\"]], bins=200, x=\"calibration\", color=\"red\", label=\"lstur\", kde=False)\n",
    "sns.histplot(data=df.loc[(df[\"algo\"] == \"recents\"), [\"calibration\"]], bins=200, x=\"calibration\", color=\"green\", label=\"nrms\", kde=False)\n",
    "sns.histplot(data=df.loc[(df[\"algo\"] == \"top24h\"), [\"calibration\"]], bins=200, x=\"calibration\", color=\"orange\", label=\"naml\", kde=False)\n",
    "# sns.histplot(data=df.loc[(df[\"algo\"] == \"npa\"), [\"calibration\"]], bins=200, x=\"calibration\", color=\"purple\", label=\"npa\", kde=False)\n",
    "# sns.histplot(data=df.loc[(df[\"algo\"] == \"pop\"), [\"calibration\"]], bins=200, x=\"calibration\", color=\"skyblue\", label=\"pop\", kde=False)\n",
    "\n",
    "plt.title(\"Calibration distribution\")\n",
    "  \n",
    "#plt.legend(['lstur', 'nrms', 'naml', 'npa', 'pop'])\n",
    "plt.legend(['als', 'recents', 'top24h'])\n",
    "  \n",
    "plt.show()"
   ]
  },
  {
   "cell_type": "code",
   "execution_count": 14,
   "metadata": {
    "ExecuteTime": {
     "end_time": "2023-05-06T22:25:33.604930Z",
     "start_time": "2023-05-06T22:25:33.583969Z"
    },
    "application/vnd.databricks.v1+cell": {
     "cellMetadata": {},
     "inputWidgets": {},
     "nuid": "f5f36c9f-99b4-48d1-9e2c-69bebd563b3e",
     "showTitle": false,
     "title": ""
    }
   },
   "outputs": [
    {
     "data": {
      "text/html": [
       "<div>\n",
       "<style scoped>\n",
       "    .dataframe tbody tr th:only-of-type {\n",
       "        vertical-align: middle;\n",
       "    }\n",
       "\n",
       "    .dataframe tbody tr th {\n",
       "        vertical-align: top;\n",
       "    }\n",
       "\n",
       "    .dataframe thead th {\n",
       "        text-align: right;\n",
       "    }\n",
       "</style>\n",
       "<table border=\"1\" class=\"dataframe\">\n",
       "  <thead>\n",
       "    <tr style=\"text-align: right;\">\n",
       "      <th></th>\n",
       "      <th>algo</th>\n",
       "      <th>calibration_mean</th>\n",
       "      <th>calibration_std</th>\n",
       "    </tr>\n",
       "  </thead>\n",
       "  <tbody>\n",
       "    <tr>\n",
       "      <th>0</th>\n",
       "      <td>als</td>\n",
       "      <td>0.672719</td>\n",
       "      <td>0.260822</td>\n",
       "    </tr>\n",
       "    <tr>\n",
       "      <th>1</th>\n",
       "      <td>recents</td>\n",
       "      <td>0.672463</td>\n",
       "      <td>0.260996</td>\n",
       "    </tr>\n",
       "    <tr>\n",
       "      <th>2</th>\n",
       "      <td>top24h</td>\n",
       "      <td>0.673988</td>\n",
       "      <td>0.259936</td>\n",
       "    </tr>\n",
       "  </tbody>\n",
       "</table>\n",
       "</div>"
      ],
      "text/plain": [
       "      algo  calibration_mean  calibration_std\n",
       "0      als          0.672719         0.260822\n",
       "1  recents          0.672463         0.260996\n",
       "2   top24h          0.673988         0.259936"
      ]
     },
     "execution_count": 14,
     "metadata": {},
     "output_type": "execute_result"
    }
   ],
   "source": [
    "calibration_mean_std = df_calibration_all.groupby('algo').agg({'calibration':'mean'}).merge(\n",
    "                        df_calibration_all.groupby('algo').agg({'calibration':'std'}), on='algo')\n",
    "calibration_mean_std = calibration_mean_std.rename(columns={'calibration_x':'calibration_mean', \n",
    "                                                            'calibration_y':'calibration_std'}).reset_index()\n",
    "calibration_mean_std"
   ]
  },
  {
   "cell_type": "code",
   "execution_count": 15,
   "metadata": {
    "ExecuteTime": {
     "end_time": "2023-05-06T22:25:34.659726Z",
     "start_time": "2023-05-06T22:25:33.606672Z"
    },
    "application/vnd.databricks.v1+cell": {
     "cellMetadata": {},
     "inputWidgets": {},
     "nuid": "480ba5fc-b78c-4c7c-9bfa-08e3cd6ecf42",
     "showTitle": false,
     "title": ""
    }
   },
   "outputs": [
    {
     "data": {
      "image/png": "[encoded data removed]",
      "text/plain": [
       "<Figure size 432x288 with 1 Axes>"
      ]
     },
     "metadata": {
      "needs_background": "light"
     },
     "output_type": "display_data"
    }
   ],
   "source": [
    "df = df_representation_all\n",
    "\n",
    "sns.histplot(data=df.loc[(df[\"algo\"] == \"als\"), [\"representation\"]], bins=200, x=\"representation\", color=\"red\", label=\"lstur\", kde=False)\n",
    "sns.histplot(data=df.loc[(df[\"algo\"] == \"recents\"), [\"representation\"]], bins=200, x=\"representation\", color=\"green\", label=\"nrms\", kde=False)\n",
    "sns.histplot(data=df.loc[(df[\"algo\"] == \"top24h\"), [\"representation\"]], bins=200, x=\"representation\", color=\"orange\", label=\"naml\", kde=False)\n",
    "# sns.histplot(data=df.loc[(df[\"algo\"] == \"npa\"), [\"representation\"]], bins=200, x=\"representation\", color=\"purple\", label=\"npa\", kde=False)\n",
    "# sns.histplot(data=df.loc[(df[\"algo\"] == \"pop\"), [\"representation\"]], bins=200, x=\"representation\", color=\"skyblue\", label=\"pop\", kde=False)\n",
    "\n",
    "plt.title(\"Representation distribution\")\n",
    "  \n",
    "#plt.legend(['lstur', 'nrms', 'naml', 'npa', 'pop'])\n",
    "plt.legend(['als', 'recents', 'top24h'])\n",
    "\n",
    "plt.show()"
   ]
  },
  {
   "cell_type": "code",
   "execution_count": 16,
   "metadata": {
    "ExecuteTime": {
     "end_time": "2023-05-06T22:25:34.679991Z",
     "start_time": "2023-05-06T22:25:34.661706Z"
    },
    "application/vnd.databricks.v1+cell": {
     "cellMetadata": {},
     "inputWidgets": {},
     "nuid": "b424610f-b497-4b91-9587-f8c7932bb7a0",
     "showTitle": false,
     "title": ""
    }
   },
   "outputs": [
    {
     "data": {
      "text/html": [
       "<div>\n",
       "<style scoped>\n",
       "    .dataframe tbody tr th:only-of-type {\n",
       "        vertical-align: middle;\n",
       "    }\n",
       "\n",
       "    .dataframe tbody tr th {\n",
       "        vertical-align: top;\n",
       "    }\n",
       "\n",
       "    .dataframe thead th {\n",
       "        text-align: right;\n",
       "    }\n",
       "</style>\n",
       "<table border=\"1\" class=\"dataframe\">\n",
       "  <thead>\n",
       "    <tr style=\"text-align: right;\">\n",
       "      <th></th>\n",
       "      <th>algo</th>\n",
       "      <th>representation_mean</th>\n",
       "      <th>representation_std</th>\n",
       "    </tr>\n",
       "  </thead>\n",
       "  <tbody>\n",
       "    <tr>\n",
       "      <th>0</th>\n",
       "      <td>als</td>\n",
       "      <td>0.679231</td>\n",
       "      <td>0.138689</td>\n",
       "    </tr>\n",
       "    <tr>\n",
       "      <th>1</th>\n",
       "      <td>recents</td>\n",
       "      <td>0.679334</td>\n",
       "      <td>0.138753</td>\n",
       "    </tr>\n",
       "    <tr>\n",
       "      <th>2</th>\n",
       "      <td>top24h</td>\n",
       "      <td>0.679143</td>\n",
       "      <td>0.138799</td>\n",
       "    </tr>\n",
       "  </tbody>\n",
       "</table>\n",
       "</div>"
      ],
      "text/plain": [
       "      algo  representation_mean  representation_std\n",
       "0      als             0.679231            0.138689\n",
       "1  recents             0.679334            0.138753\n",
       "2   top24h             0.679143            0.138799"
      ]
     },
     "execution_count": 16,
     "metadata": {},
     "output_type": "execute_result"
    }
   ],
   "source": [
    "representation_mean_std = df_representation_all.groupby('algo').agg({'representation':'mean'}).merge(\n",
    "                        df_representation_all.groupby('algo').agg({'representation':'std'}), on='algo')\n",
    "representation_mean_std = representation_mean_std.rename(columns={'representation_x':'representation_mean', \n",
    "                                                            'representation_y':'representation_std'}).reset_index()\n",
    "representation_mean_std"
   ]
  },
  {
   "cell_type": "code",
   "execution_count": 17,
   "metadata": {
    "ExecuteTime": {
     "end_time": "2023-05-06T22:25:35.656568Z",
     "start_time": "2023-05-06T22:25:34.681742Z"
    }
   },
   "outputs": [
    {
     "data": {
      "image/png": "[encoded data removed]",
      "text/plain": [
       "<Figure size 432x288 with 1 Axes>"
      ]
     },
     "metadata": {
      "needs_background": "light"
     },
     "output_type": "display_data"
    }
   ],
   "source": [
    "df = df_fragmentation_all\n",
    "  \n",
    "sns.histplot(data=df.loc[(df[\"algo\"] == \"als\"), [\"fragmentation\"]], bins=200, x=\"fragmentation\", color=\"red\", label=\"lstur\", kde=False)\n",
    "sns.histplot(data=df.loc[(df[\"algo\"] == \"recents\"), [\"fragmentation\"]], bins=200, x=\"fragmentation\", color=\"green\", label=\"nrms\", kde=False)\n",
    "sns.histplot(data=df.loc[(df[\"algo\"] == \"top24h\"), [\"fragmentation\"]], bins=200, x=\"fragmentation\", color=\"orange\", label=\"naml\", kde=False)\n",
    "# sns.histplot(data=df.loc[(df[\"algo\"] == \"npa\"), [\"fragmentation\"]], bins=200, x=\"fragmentation\", color=\"purple\", label=\"npa\", kde=False)\n",
    "# sns.histplot(data=df.loc[(df[\"algo\"] == \"pop\"), [\"fragmentation\"]], bins=200, x=\"fragmentation\", color=\"skyblue\", label=\"pop\", kde=False)\n",
    "\n",
    "plt.title(\"Fragmentation distribution\")\n",
    "  \n",
    "#plt.legend(['lstur', 'nrms', 'naml', 'npa', 'pop'])\n",
    "plt.legend(['als', 'recents', 'top24h'])\n",
    "  \n",
    "plt.show()"
   ]
  },
  {
   "cell_type": "code",
   "execution_count": 18,
   "metadata": {
    "ExecuteTime": {
     "end_time": "2023-05-06T22:25:35.673637Z",
     "start_time": "2023-05-06T22:25:35.658464Z"
    }
   },
   "outputs": [
    {
     "data": {
      "text/html": [
       "<div>\n",
       "<style scoped>\n",
       "    .dataframe tbody tr th:only-of-type {\n",
       "        vertical-align: middle;\n",
       "    }\n",
       "\n",
       "    .dataframe tbody tr th {\n",
       "        vertical-align: top;\n",
       "    }\n",
       "\n",
       "    .dataframe thead th {\n",
       "        text-align: right;\n",
       "    }\n",
       "</style>\n",
       "<table border=\"1\" class=\"dataframe\">\n",
       "  <thead>\n",
       "    <tr style=\"text-align: right;\">\n",
       "      <th></th>\n",
       "      <th>algo</th>\n",
       "      <th>fragmentation_mean</th>\n",
       "      <th>fragmentation_std</th>\n",
       "    </tr>\n",
       "  </thead>\n",
       "  <tbody>\n",
       "    <tr>\n",
       "      <th>0</th>\n",
       "      <td>als</td>\n",
       "      <td>0.844636</td>\n",
       "      <td>0.041503</td>\n",
       "    </tr>\n",
       "    <tr>\n",
       "      <th>1</th>\n",
       "      <td>recents</td>\n",
       "      <td>0.717602</td>\n",
       "      <td>0.190911</td>\n",
       "    </tr>\n",
       "    <tr>\n",
       "      <th>2</th>\n",
       "      <td>top24h</td>\n",
       "      <td>0.773885</td>\n",
       "      <td>0.113555</td>\n",
       "    </tr>\n",
       "  </tbody>\n",
       "</table>\n",
       "</div>"
      ],
      "text/plain": [
       "      algo  fragmentation_mean  fragmentation_std\n",
       "0      als            0.844636           0.041503\n",
       "1  recents            0.717602           0.190911\n",
       "2   top24h            0.773885           0.113555"
      ]
     },
     "execution_count": 18,
     "metadata": {},
     "output_type": "execute_result"
    }
   ],
   "source": [
    "fragmentation_mean_std = df_fragmentation_all.groupby('algo').agg({'fragmentation':'mean'}).merge(\n",
    "                        df_fragmentation_all.groupby('algo').agg({'fragmentation':'std'}), on='algo')\n",
    "fragmentation_mean_std = fragmentation_mean_std.rename(columns={'fragmentation_x':'fragmentation_mean', \n",
    "                                                            'fragmentation_y':'fragmentation_std'}).reset_index()\n",
    "fragmentation_mean_std"
   ]
  }
 ],
 "metadata": {
  "application/vnd.databricks.v1+notebook": {
   "dashboards": [],
   "language": "python",
   "notebookMetadata": {
    "pythonIndentUnit": 2
   },
   "notebookName": "RADio metrec with MIND",
   "notebookOrigID": 3720487088895143,
   "widgets": {}
  },
  "kernelspec": {
   "display_name": "Python 3",
   "language": "python",
   "name": "python3"
  },
  "language_info": {
   "codemirror_mode": {
    "name": "ipython",
    "version": 3
   },
   "file_extension": ".py",
   "mimetype": "text/x-python",
   "name": "python",
   "nbconvert_exporter": "python",
   "pygments_lexer": "ipython3",
   "version": "3.9.16"
  },
  "toc": {
   "base_numbering": 1,
   "nav_menu": {},
   "number_sections": true,
   "sideBar": true,
   "skip_h1_title": false,
   "title_cell": "Table of Contents",
   "title_sidebar": "Contents",
   "toc_cell": true,
   "toc_position": {},
   "toc_section_display": true,
   "toc_window_display": false
  },
  "varInspector": {
   "cols": {
    "lenName": 16,
    "lenType": 16,
    "lenVar": 40
   },
   "kernels_config": {
    "python": {
     "delete_cmd_postfix": "",
     "delete_cmd_prefix": "del ",
     "library": "var_list.py",
     "varRefreshCmd": "print(var_dic_list())"
    },
    "r": {
     "delete_cmd_postfix": ") ",
     "delete_cmd_prefix": "rm(",
     "library": "var_list.r",
     "varRefreshCmd": "cat(var_dic_list()) "
    }
   },
   "types_to_exclude": [
    "module",
    "function",
    "builtin_function_or_method",
    "instance",
    "_Feature"
   ],
   "window_display": false
  },
  "vscode": {
   "interpreter": {
    "hash": "38cca0c38332a56087b24af0bc80247f4fced29cb4f7f437d91dc159adec9c4e"
   }
  }
 },
 "nbformat": 4,
 "nbformat_minor": 1
}
