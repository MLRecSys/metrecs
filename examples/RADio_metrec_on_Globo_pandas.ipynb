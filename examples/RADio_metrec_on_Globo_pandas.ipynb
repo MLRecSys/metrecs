{
 "cells": [
  {
   "cell_type": "markdown",
   "metadata": {
    "toc": true
   },
   "source": [
    "<h1>Table of Contents<span class=\"tocSkip\"></span></h1>\n",
    "<div class=\"toc\"><ul class=\"toc-item\"></ul></div>"
   ]
  },
  {
   "cell_type": "code",
   "execution_count": 252,
   "metadata": {
    "ExecuteTime": {
     "end_time": "2023-06-15T11:53:41.777611Z",
     "start_time": "2023-06-15T11:53:41.772889Z"
    },
    "application/vnd.databricks.v1+cell": {
     "cellMetadata": {},
     "inputWidgets": {},
     "nuid": "fda62179-b1d3-498d-bd30-94ef80de57f8",
     "showTitle": false,
     "title": ""
    }
   },
   "outputs": [],
   "source": [
    "import datetime\n",
    "import time\n",
    "import numpy as np\n",
    "import math\n",
    "import os\n",
    "import pandas as pd\n",
    "import matplotlib.pyplot as plt\n",
    "import seaborn as sns"
   ]
  },
  {
   "cell_type": "code",
   "execution_count": 253,
   "metadata": {
    "ExecuteTime": {
     "end_time": "2023-06-15T11:53:41.785554Z",
     "start_time": "2023-06-15T11:53:41.781912Z"
    }
   },
   "outputs": [],
   "source": [
    "import sys\n",
    "sys.path.insert(1, '../src/')"
   ]
  },
  {
   "cell_type": "code",
   "execution_count": 254,
   "metadata": {
    "ExecuteTime": {
     "end_time": "2023-06-15T11:53:41.793290Z",
     "start_time": "2023-06-15T11:53:41.790094Z"
    }
   },
   "outputs": [],
   "source": [
    "from metrecs.utils import (\n",
    "    harmonic_number,\n",
    "    normalized_scaled_harmonic_number_series,\n",
    "    compute_normalized_distribution_multiple_categories,\n",
    "    opt_merge_max_mappings,\n",
    "    avoid_distribution_misspecification,\n",
    "    user_level_RADio_multicategorical\n",
    ")"
   ]
  },
  {
   "cell_type": "code",
   "execution_count": 255,
   "metadata": {
    "ExecuteTime": {
     "end_time": "2023-06-15T11:53:41.807870Z",
     "start_time": "2023-06-15T11:53:41.796240Z"
    },
    "application/vnd.databricks.v1+cell": {
     "cellMetadata": {},
     "inputWidgets": {},
     "nuid": "daa9e53b-becc-41a6-8110-5b19a7e79a26",
     "showTitle": false,
     "title": ""
    }
   },
   "outputs": [],
   "source": [
    "def read_globo_articles(path: str) -> pd.DataFrame:\n",
    "    articles_df = pd.read_parquet(path)\n",
    "    #articles_df2 = articles_df.drop(['body'], axis=1)\n",
    "    #articles_df2.to_parquet(current_dir+'/Globo/new_file.parquet')\n",
    "\n",
    "    articles_df['category'] = \"news\"\n",
    "    articles_df['subcategory'] = articles_df[\"topics\"].apply(lambda row: [] if len(row) == 0 else row[0])\n",
    "    #articles_df[articles_df[\"topics\"].apply(lambda x: len(x)) == 0]\n",
    "\n",
    "    articles_df['cat_subcat'] = articles_df['topics']\n",
    "    articles_df.rename(columns={\"newsID\":\"newsid\", \"topics\":\"cat_as_list\"}, inplace=True)\n",
    "    print('Nr of unique articles', articles_df.newsid.unique().size) \n",
    "    return articles_df\n",
    "\n",
    "def text_to_array(text: pd.Series, rgx_exp: str) -> pd.Series:\n",
    "    return str(text).split(rgx_exp)\n",
    "\n",
    "def read_behavior_globo(path: str) -> pd.DataFrame:\n",
    "    behaviors_presel_df = pd.read_parquet(path)\n",
    "    #behaviors_presel_df.rename(columns={\"impressionId\":\"index\", \"history\":\"behavior_array\", \"impressions\":\"preselection_array\", \"impressionsRaw\":\"pool_array\", \"userId\":\"user\"}, inplace=True)\n",
    "    behaviors_presel_df.rename(columns={\"impressionId\":\"index\", \"history\":\"behavior_array\", \"impressions\":\"pool_array\", \"userId\":\"user\"}, inplace=True)\n",
    "    #behaviors_presel_df.set_index(\"index\", inplace=True)\n",
    "    behaviors_presel_df[\"datetime\"] = behaviors_presel_df[\"impressionTimestamp\"].apply(lambda x : datetime.datetime.fromtimestamp(x/1000))\n",
    "    return behaviors_presel_df\n",
    "\n",
    "def get_top_rec_ids_array(pred_df: pd.DataFrame, behaviors_presel_df: pd.DataFrame, top_k: int) -> pd.DataFrame:\n",
    "    # Create a df with one row per user that contains only the top_k recommendations, that is the newsid and not the position of the preselection\n",
    "    pred_df = pred_df[pred_df['size_list'] >= top_k]\n",
    "    pred_preselection_df = pred_df.merge(behaviors_presel_df[['index', 'user', 'pool_array']], on='index')\n",
    "    pred_preselection_df['pred_slice_id'] = pred_preselection_df.apply((lambda x: [str(x['pool_array'][indx]) for indx, ele in enumerate(x['pred_rank'])]), axis=1)\n",
    "#    pred_preselection_df['pred_slice_id'] = pred_preselection_df.apply((lambda x: [str(x['pool_array'][indx]) for indx, ele in enumerate(x['pred_rank']) if ele <= top_k]), axis=1)\n",
    "    pred_preselection_df = pred_preselection_df.drop(['pool_array', 'pred_rank'], axis=1)\n",
    "    return pred_preselection_df\n",
    "\n",
    "def read_predictions(path_predictions: str, behaviors_presel_df: pd.DataFrame, top_k: int, algo: str) -> tuple[pd.DataFrame, pd.DataFrame]:\n",
    "    pred_df = pd.read_parquet(path_predictions)\n",
    "    pred_df['pred_rank'] = pred_df['impressions']\n",
    "    pred_df = pred_df.rename(columns={\"impr_index\": \"index\"})\n",
    "#    pred_df.set_index('index', inplace=True)\n",
    "    pred_df.drop(columns=['impressions', 'positions'], inplace=True)\n",
    "    pred_df['size_list'] = pred_df['pred_rank'].apply(len)\n",
    "    pred_df['algo'] = algo\n",
    "    pred_preselection_df = get_top_rec_ids_array(pred_df, behaviors_presel_df, top_k = 2*top_k)\n",
    "    return pred_df, pred_preselection_df"
   ]
  },
  {
   "cell_type": "code",
   "execution_count": 256,
   "metadata": {
    "ExecuteTime": {
     "end_time": "2023-06-15T11:53:41.821042Z",
     "start_time": "2023-06-15T11:53:41.810527Z"
    },
    "application/vnd.databricks.v1+cell": {
     "cellMetadata": {},
     "inputWidgets": {},
     "nuid": "d0fceea2-28d9-4f95-a410-da0fa050f29f",
     "showTitle": false,
     "title": ""
    }
   },
   "outputs": [],
   "source": [
    "def get_cat(df: pd.DataFrame, articles_df: pd.DataFrame, column: str, cat_column: str, top_at: int, slice_col: bool=False) -> pd.DataFrame:                  \n",
    "    s = pd.DataFrame({column: np.concatenate(df[column].values)}, index = df.index.repeat(df[column].str.len()))\n",
    "    df_exploded = s.join(df.drop(column, axis=1), how='left')\n",
    "    df_exploded['rank'] = df_exploded.groupby(df_exploded.index).cumcount()#+1 # commented out because rank is related to the index of a list\n",
    "    df_exploded = df_exploded.rename(columns={column: \"newsid\"})\n",
    "\n",
    "    articles_df_thin = articles_df[['newsid', cat_column]].copy(deep=True)\n",
    "    articles_df_thin[cat_column] = articles_df_thin[cat_column].apply(tuple)\n",
    "    articles_df_thin = articles_df_thin.drop_duplicates()\n",
    "    articles_df_thin[cat_column] = articles_df_thin[cat_column].apply(list)\n",
    "    \n",
    "    df_cat = df_exploded.merge(articles_df_thin, on='newsid', how='inner')\n",
    "    \n",
    "    df_cat = df_cat.sort_values(by=['index', 'rank'])\n",
    "    df_cat1 = df_cat.groupby('index')[cat_column].apply(list).reset_index(name='sorted_cat_list')\n",
    "    df_cat2 = df_cat.groupby('index')['newsid'].apply(list).reset_index(name='sorted_newsid_list')\n",
    "    df_cat = df_cat1.merge(df_cat2, on='index')\n",
    "\n",
    "    df_cat = df_cat.merge(df.drop(column, axis=1), on='index')\n",
    "    if slice_col:\n",
    "        df_cat['size_newsid_list'] = df_cat['sorted_newsid_list'].apply(len)\n",
    "        df_cat = df_cat[df_cat['size_newsid_list'] >= 5]\n",
    "#        df_cat = df_cat[df_cat['size_newsid_list'] >= 1]\n",
    "        df_cat['sorted_cat_list'] = df_cat.apply(lambda row: list(row['sorted_cat_list'])[0:top_at], axis=1)\n",
    "        df_cat['sorted_newsid_list'] = df_cat.apply(lambda row: list(row['sorted_newsid_list'])[0:top_at], axis=1)\n",
    "        df_cat['size_cat_list'] = df_cat['sorted_cat_list'].apply(len)\n",
    "        df_cat = df_cat[df_cat['size_cat_list'] >= 5]\n",
    "#        df_cat = df_cat[df_cat['size_cat_list'] >= 1]\n",
    "    return df_cat"
   ]
  },
  {
   "cell_type": "code",
   "execution_count": 257,
   "metadata": {
    "ExecuteTime": {
     "end_time": "2023-06-15T11:53:41.850985Z",
     "start_time": "2023-06-15T11:53:41.827765Z"
    },
    "application/vnd.databricks.v1+cell": {
     "cellMetadata": {},
     "inputWidgets": {},
     "nuid": "2968b198-2313-49e7-8a82-1f4b4cc4a898",
     "showTitle": false,
     "title": ""
    }
   },
   "outputs": [],
   "source": [
    "def get_classic_calibration(pred_preselection_df: pd.DataFrame, articles_df: pd.DataFrame, behaviors_presel_df: pd.DataFrame, cat_column: str, top_at: int) -> pd.DataFrame:\n",
    "    df_cat = get_cat(pred_preselection_df, articles_df, 'pred_slice_id', cat_column, top_at, slice_col=True)\n",
    "    \n",
    "    df_cat_history = get_cat(behaviors_presel_df[['index', 'user', 'behavior_array']], articles_df, 'behavior_array', cat_column, top_at, slice_col=False)\n",
    "    df_cat_history = df_cat_history.rename(columns={'sorted_cat_list': 'history_cat_list', 'sorted_newsid_list': 'history_newsid_list'})\n",
    "    \n",
    "    df_calibration = df_cat.merge(df_cat_history, on=['index', 'user'], how='inner')\n",
    "    \n",
    "    df_calibration['calibration'] = df_calibration.apply(lambda row: user_level_RADio_multicategorical(row['sorted_cat_list'], \n",
    "                                                                                                       row['history_cat_list'], \n",
    "                                                                                                       list(normalized_scaled_harmonic_number_series(len(row['sorted_cat_list'])))\n",
    "                                                                                                       ), axis=1)\n",
    "    return df_calibration\n",
    "\n",
    "def get_classic_representation(pred_preselection_df: pd.DataFrame, articles_df: pd.DataFrame, behaviors_presel_df: pd.DataFrame, cat_column: str, top_at: int) -> pd.DataFrame:\n",
    "    df_cat = get_cat(pred_preselection_df, articles_df, 'pred_slice_id', cat_column, top_at, slice_col=True)\n",
    "    \n",
    "    df_cat_pool = get_cat(behaviors_presel_df[['index', 'user', 'pool_array']], articles_df, 'pool_array', cat_column, top_at, slice_col=False)\n",
    "    df_cat_pool = df_cat_pool.rename(columns={'sorted_cat_list': 'pool_cat_list', 'sorted_newsid_list': 'pool_newsid_list'})\n",
    "    \n",
    "    df_representation = df_cat.merge(df_cat_pool, on=['index', 'user'], how='inner')\n",
    "    \n",
    "    df_representation['representation'] = df_representation.apply(lambda row: user_level_RADio_multicategorical(row['sorted_cat_list'], \n",
    "                                                                                                                row['pool_cat_list'], \n",
    "                                                                                                                list(normalized_scaled_harmonic_number_series(len(row['sorted_cat_list'])))\n",
    "                                                                                                                ), axis=1)\n",
    "\n",
    "    return df_representation\n",
    "\n",
    "def get_classic_fragmentation(pred_preselection_df: pd.DataFrame, articles_df: pd.DataFrame, cat_column: str, top_at: int, sample_size: float=0.05) -> pd.DataFrame:\n",
    "    df_cat = get_cat(pred_preselection_df, articles_df, 'pred_slice_id', cat_column, top_at, slice_col=True)\n",
    "    df_cat2 = df_cat.sample(frac=0.005).rename(columns={'index':'other_index', 'user':'other_user', 'sorted_cat_list': 'rec_cat_list', 'sorted_newsid_list': 'rec_newsid', 'algo': 'other_algo'})\n",
    "    df_cat['key'] = 0\n",
    "    df_cat2['key'] = 0\n",
    "\n",
    "    df_cat_cat = df_cat.merge(df_cat2, on='key', how='outer')\n",
    "    df_cat_cat = df_cat_cat.drop(['key'], axis=1) \n",
    "    df_cat_cat = df_cat_cat[df_cat_cat['index'] != df_cat_cat['other_index']]\n",
    "    \n",
    "    df_cat_cat['fragmentation_detail'] = df_cat_cat.apply(lambda row: user_level_RADio_multicategorical(row['sorted_cat_list'], \n",
    "                                                                                                        row['rec_cat_list'], \n",
    "                                                                                                        list(normalized_scaled_harmonic_number_series(len(row['sorted_cat_list']))),\n",
    "                                                                                                        list(normalized_scaled_harmonic_number_series(len(row['rec_cat_list'])))\n",
    "                                                                                                        ), axis=1)\n",
    "    df_fragmentation = df_cat_cat.groupby(['index', 'user', 'algo']).agg({'fragmentation_detail':'mean'})\n",
    "    df_fragmentation = df_fragmentation.rename(columns={'fragmentation_detail':'fragmentation'})\\\n",
    "                                       .reset_index()\n",
    "    return df_fragmentation"
   ]
  },
  {
   "cell_type": "code",
   "execution_count": 258,
   "metadata": {
    "ExecuteTime": {
     "end_time": "2023-06-15T11:53:41.868610Z",
     "start_time": "2023-06-15T11:53:41.853313Z"
    },
    "application/vnd.databricks.v1+cell": {
     "cellMetadata": {},
     "inputWidgets": {},
     "nuid": "8d30e990-81b4-4626-a348-46881ded6c4a",
     "showTitle": false,
     "title": ""
    }
   },
   "outputs": [],
   "source": [
    "def read_recommendations_and_calculate_metrics(articles_df: pd.DataFrame, behaviors_presel_df: pd.DataFrame, sufix: str, algos: list[str], top_at: int=10, NR_BINS: int=200, path_prediction: str = 'examples/Globo/recommendations/') -> tuple[pd.DataFrame, pd.DataFrame, pd.DataFrame, pd.DataFrame, pd.DataFrame, pd.DataFrame]:\n",
    "    df_calibration_all = None\n",
    "    df_representation_all = None\n",
    "    df_fragmentation_all = None\n",
    "\n",
    "    for algo in algos:\n",
    "        PATH_PRED = path_prediction+algo+'_pred_'+sufix+'.parquet'\n",
    "        pred_df, pred_preselection_df = read_predictions(PATH_PRED, behaviors_presel_df, top_k = top_at, algo = algo)\n",
    "        print(pred_df.shape)\n",
    "        print(pred_preselection_df.shape)\n",
    "        \n",
    "        print(algo)\n",
    "\n",
    "        df_calibration = get_classic_calibration(pred_preselection_df, articles_df, behaviors_presel_df, 'cat_as_list', top_at)\n",
    "        df_calibration = df_calibration[['index','user','calibration','algo']]\n",
    "        if df_calibration_all is None:\n",
    "            df_calibration_all = df_calibration\n",
    "        else:\n",
    "            df_calibration_all = pd.concat([df_calibration_all, df_calibration], ignore_index=True)\n",
    "\n",
    "        #return pred_preselection_df, articles_df, behaviors_presel_df, top_at\n",
    "            \n",
    "        df_representation = get_classic_representation(pred_preselection_df, articles_df, behaviors_presel_df, 'cat_subcat', top_at)\n",
    "        df_representation = df_representation[['index','user','representation','algo']]\n",
    "        if df_representation_all is None:\n",
    "            df_representation_all = df_representation\n",
    "        else:\n",
    "            df_representation_all = pd.concat([df_representation_all, df_representation], ignore_index=True)\n",
    "\n",
    "        df_fragmentation = get_classic_fragmentation(pred_preselection_df, articles_df, 'cat_subcat', top_at, sample_size=0.01)\n",
    "        if df_fragmentation_all is None:\n",
    "            df_fragmentation_all = df_fragmentation\n",
    "        else:\n",
    "            df_fragmentation_all = pd.concat([df_fragmentation_all, df_fragmentation], ignore_index=True)\n",
    "    \n",
    "    df_calibration_all['calibration_bin'] = df_calibration_all.apply(lambda row: round(row['calibration']*NR_BINS,0)/NR_BINS, axis=1)\n",
    "    calibration_agg_df = df_calibration_all.groupby(['algo', 'calibration_bin']).agg({'index':'count'})\n",
    "    calibration_agg_df = calibration_agg_df.rename(columns={'index':'count'}).reset_index()\n",
    "    \n",
    "    df_representation_all['representation_bin'] = df_representation_all.apply(lambda row: round(row['representation']*NR_BINS,0)/NR_BINS, axis=1)\n",
    "    representation_agg_df = df_representation_all.groupby(['algo', 'representation_bin']).agg({'index':'count'})\n",
    "    representation_agg_df = representation_agg_df.rename(columns={'index':'count'}).reset_index()\n",
    "    \n",
    "    fragmentation_agg_df = None\n",
    "    if df_fragmentation_all is not None:\n",
    "        df_fragmentation_all['fragmentation_bin'] = df_fragmentation_all.apply(lambda row: round(row['fragmentation']*NR_BINS,0)/NR_BINS, axis=1)\n",
    "        fragmentation_agg_df = df_fragmentation_all.groupby(['algo', 'fragmentation_bin']).agg({'index':'count'})\n",
    "        fragmentation_agg_df = fragmentation_agg_df.rename(columns={'index':'count'}).reset_index()\n",
    "    return df_calibration_all, calibration_agg_df, df_representation_all, representation_agg_df, df_fragmentation_all, fragmentation_agg_df"
   ]
  },
  {
   "cell_type": "code",
   "execution_count": 259,
   "metadata": {
    "ExecuteTime": {
     "end_time": "2023-06-15T11:53:42.640592Z",
     "start_time": "2023-06-15T11:53:41.874472Z"
    },
    "application/vnd.databricks.v1+cell": {
     "cellMetadata": {},
     "inputWidgets": {},
     "nuid": "af51ef9c-63cb-4cf6-bf4d-87227da44aca",
     "showTitle": false,
     "title": ""
    }
   },
   "outputs": [
    {
     "name": "stdout",
     "output_type": "stream",
     "text": [
      "Nr of unique articles 23021\n"
     ]
    }
   ],
   "source": [
    "current_dir = os.getcwd() \n",
    "sufix = 'medium'\n",
    "PATH_BEHAVIOURS = current_dir+'/Globo/behaviors_'+sufix+'.parquet'\n",
    "PATH_ARTICLES = current_dir+'/Globo/articles_without_body_medium.parquet'\n",
    "\n",
    "articles_df = read_globo_articles(path=PATH_ARTICLES)\n",
    "behaviors_presel_df = read_behavior_globo(path=PATH_BEHAVIOURS)"
   ]
  },
  {
   "cell_type": "code",
   "execution_count": 260,
   "metadata": {
    "ExecuteTime": {
     "end_time": "2023-06-15T11:53:42.647600Z",
     "start_time": "2023-06-15T11:53:42.643863Z"
    }
   },
   "outputs": [
    {
     "data": {
      "text/plain": [
       "(76571, 16)"
      ]
     },
     "execution_count": 260,
     "metadata": {},
     "output_type": "execute_result"
    }
   ],
   "source": [
    "behaviors_presel_df.shape"
   ]
  },
  {
   "cell_type": "code",
   "execution_count": 261,
   "metadata": {
    "ExecuteTime": {
     "end_time": "2023-06-15T11:53:42.651651Z",
     "start_time": "2023-06-15T11:53:42.649393Z"
    }
   },
   "outputs": [],
   "source": [
    "#Changes\n",
    "##1. top_at = 1 x top_at = 10"
   ]
  },
  {
   "cell_type": "code",
   "execution_count": 262,
   "metadata": {
    "ExecuteTime": {
     "end_time": "2023-06-15T11:53:42.657881Z",
     "start_time": "2023-06-15T11:53:42.653291Z"
    }
   },
   "outputs": [],
   "source": [
    "def count_elements(array):\n",
    "    return len(array)\n",
    "\n",
    "# Filter out rows with less than 5 elements in the array_column\n",
    "#filtered_df = df[df['array_column'].apply(count_elements) >= 5]"
   ]
  },
  {
   "cell_type": "code",
   "execution_count": 263,
   "metadata": {
    "ExecuteTime": {
     "end_time": "2023-06-15T11:53:42.888865Z",
     "start_time": "2023-06-15T11:53:42.660242Z"
    }
   },
   "outputs": [
    {
     "ename": "ValueError",
     "evalue": "Cannot set a DataFrame with multiple columns to the single column pred_slice_id",
     "output_type": "error",
     "traceback": [
      "\u001b[0;31m---------------------------------------------------------------------------\u001b[0m",
      "\u001b[0;31mValueError\u001b[0m                                Traceback (most recent call last)",
      "\u001b[0;32m<ipython-input-263-f6ce70defb36>\u001b[0m in \u001b[0;36m<module>\u001b[0;34m\u001b[0m\n\u001b[1;32m      1\u001b[0m \u001b[0;31m# This will take some time due to fragmentation (around 35 min)\u001b[0m\u001b[0;34m\u001b[0m\u001b[0;34m\u001b[0m\u001b[0m\n\u001b[1;32m      2\u001b[0m \u001b[0mPATH_PRED\u001b[0m \u001b[0;34m=\u001b[0m \u001b[0mcurrent_dir\u001b[0m\u001b[0;34m+\u001b[0m\u001b[0;34m'/Globo/recommendations/'\u001b[0m\u001b[0;34m\u001b[0m\u001b[0;34m\u001b[0m\u001b[0m\n\u001b[0;32m----> 3\u001b[0;31m \u001b[0mdf_calibration_all\u001b[0m\u001b[0;34m,\u001b[0m \u001b[0mcalibration_agg_df\u001b[0m\u001b[0;34m,\u001b[0m \u001b[0mdf_representation_all\u001b[0m\u001b[0;34m,\u001b[0m \u001b[0mrepresentation_agg_df\u001b[0m\u001b[0;34m,\u001b[0m \u001b[0mdf_fragmentation_all\u001b[0m\u001b[0;34m,\u001b[0m \u001b[0mfragmentation_agg_df\u001b[0m \u001b[0;34m=\u001b[0m \u001b[0mread_recommendations_and_calculate_metrics\u001b[0m\u001b[0;34m(\u001b[0m \u001b[0marticles_df\u001b[0m\u001b[0;34m,\u001b[0m \u001b[0mbehaviors_presel_df\u001b[0m\u001b[0;34m,\u001b[0m \u001b[0msufix\u001b[0m \u001b[0;34m=\u001b[0m \u001b[0msufix\u001b[0m\u001b[0;34m,\u001b[0m \u001b[0malgos\u001b[0m \u001b[0;34m=\u001b[0m \u001b[0;34m[\u001b[0m\u001b[0;34m'als'\u001b[0m\u001b[0;34m,\u001b[0m \u001b[0;34m'recents'\u001b[0m\u001b[0;34m,\u001b[0m \u001b[0;34m'top24h'\u001b[0m\u001b[0;34m]\u001b[0m\u001b[0;34m,\u001b[0m \u001b[0mtop_at\u001b[0m \u001b[0;34m=\u001b[0m \u001b[0;36m9\u001b[0m\u001b[0;34m,\u001b[0m \u001b[0mNR_BINS\u001b[0m \u001b[0;34m=\u001b[0m \u001b[0;36m200\u001b[0m\u001b[0;34m,\u001b[0m \u001b[0mpath_prediction\u001b[0m\u001b[0;34m=\u001b[0m\u001b[0mPATH_PRED\u001b[0m\u001b[0;34m)\u001b[0m\u001b[0;34m\u001b[0m\u001b[0;34m\u001b[0m\u001b[0m\n\u001b[0m\u001b[1;32m      4\u001b[0m \u001b[0;31m#pred_preselection_df, articles_df, behaviors_presel_df, top_at = read_recommendations_and_calculate_metrics( articles_df, behaviors_presel_df, sufix = sufix, algos = ['als', 'recents', 'top24h'], top_at = 1, NR_BINS = 200, path_prediction=PATH_PRED)\u001b[0m\u001b[0;34m\u001b[0m\u001b[0;34m\u001b[0m\u001b[0m\n",
      "\u001b[0;32m<ipython-input-258-26189efbd1a5>\u001b[0m in \u001b[0;36mread_recommendations_and_calculate_metrics\u001b[0;34m(articles_df, behaviors_presel_df, sufix, algos, top_at, NR_BINS, path_prediction)\u001b[0m\n\u001b[1;32m      6\u001b[0m     \u001b[0;32mfor\u001b[0m \u001b[0malgo\u001b[0m \u001b[0;32min\u001b[0m \u001b[0malgos\u001b[0m\u001b[0;34m:\u001b[0m\u001b[0;34m\u001b[0m\u001b[0;34m\u001b[0m\u001b[0m\n\u001b[1;32m      7\u001b[0m         \u001b[0mPATH_PRED\u001b[0m \u001b[0;34m=\u001b[0m \u001b[0mpath_prediction\u001b[0m\u001b[0;34m+\u001b[0m\u001b[0malgo\u001b[0m\u001b[0;34m+\u001b[0m\u001b[0;34m'_pred_'\u001b[0m\u001b[0;34m+\u001b[0m\u001b[0msufix\u001b[0m\u001b[0;34m+\u001b[0m\u001b[0;34m'.parquet'\u001b[0m\u001b[0;34m\u001b[0m\u001b[0;34m\u001b[0m\u001b[0m\n\u001b[0;32m----> 8\u001b[0;31m         \u001b[0mpred_df\u001b[0m\u001b[0;34m,\u001b[0m \u001b[0mpred_preselection_df\u001b[0m \u001b[0;34m=\u001b[0m \u001b[0mread_predictions\u001b[0m\u001b[0;34m(\u001b[0m\u001b[0mPATH_PRED\u001b[0m\u001b[0;34m,\u001b[0m \u001b[0mbehaviors_presel_df\u001b[0m\u001b[0;34m,\u001b[0m \u001b[0mtop_k\u001b[0m \u001b[0;34m=\u001b[0m \u001b[0mtop_at\u001b[0m\u001b[0;34m,\u001b[0m \u001b[0malgo\u001b[0m \u001b[0;34m=\u001b[0m \u001b[0malgo\u001b[0m\u001b[0;34m)\u001b[0m\u001b[0;34m\u001b[0m\u001b[0;34m\u001b[0m\u001b[0m\n\u001b[0m\u001b[1;32m      9\u001b[0m         \u001b[0mprint\u001b[0m\u001b[0;34m(\u001b[0m\u001b[0mpred_df\u001b[0m\u001b[0;34m.\u001b[0m\u001b[0mshape\u001b[0m\u001b[0;34m)\u001b[0m\u001b[0;34m\u001b[0m\u001b[0;34m\u001b[0m\u001b[0m\n\u001b[1;32m     10\u001b[0m         \u001b[0mprint\u001b[0m\u001b[0;34m(\u001b[0m\u001b[0mpred_preselection_df\u001b[0m\u001b[0;34m.\u001b[0m\u001b[0mshape\u001b[0m\u001b[0;34m)\u001b[0m\u001b[0;34m\u001b[0m\u001b[0;34m\u001b[0m\u001b[0m\n",
      "\u001b[0;32m<ipython-input-255-98782969dd88>\u001b[0m in \u001b[0;36mread_predictions\u001b[0;34m(path_predictions, behaviors_presel_df, top_k, algo)\u001b[0m\n\u001b[1;32m     41\u001b[0m     \u001b[0mpred_df\u001b[0m\u001b[0;34m[\u001b[0m\u001b[0;34m'size_list'\u001b[0m\u001b[0;34m]\u001b[0m \u001b[0;34m=\u001b[0m \u001b[0mpred_df\u001b[0m\u001b[0;34m[\u001b[0m\u001b[0;34m'pred_rank'\u001b[0m\u001b[0;34m]\u001b[0m\u001b[0;34m.\u001b[0m\u001b[0mapply\u001b[0m\u001b[0;34m(\u001b[0m\u001b[0mlen\u001b[0m\u001b[0;34m)\u001b[0m\u001b[0;34m\u001b[0m\u001b[0;34m\u001b[0m\u001b[0m\n\u001b[1;32m     42\u001b[0m     \u001b[0mpred_df\u001b[0m\u001b[0;34m[\u001b[0m\u001b[0;34m'algo'\u001b[0m\u001b[0;34m]\u001b[0m \u001b[0;34m=\u001b[0m \u001b[0malgo\u001b[0m\u001b[0;34m\u001b[0m\u001b[0;34m\u001b[0m\u001b[0m\n\u001b[0;32m---> 43\u001b[0;31m     \u001b[0mpred_preselection_df\u001b[0m \u001b[0;34m=\u001b[0m \u001b[0mget_top_rec_ids_array\u001b[0m\u001b[0;34m(\u001b[0m\u001b[0mpred_df\u001b[0m\u001b[0;34m,\u001b[0m \u001b[0mbehaviors_presel_df\u001b[0m\u001b[0;34m,\u001b[0m \u001b[0mtop_k\u001b[0m \u001b[0;34m=\u001b[0m \u001b[0;36m2\u001b[0m\u001b[0;34m*\u001b[0m\u001b[0mtop_k\u001b[0m\u001b[0;34m)\u001b[0m\u001b[0;34m\u001b[0m\u001b[0;34m\u001b[0m\u001b[0m\n\u001b[0m\u001b[1;32m     44\u001b[0m     \u001b[0;32mreturn\u001b[0m \u001b[0mpred_df\u001b[0m\u001b[0;34m,\u001b[0m \u001b[0mpred_preselection_df\u001b[0m\u001b[0;34m\u001b[0m\u001b[0;34m\u001b[0m\u001b[0m\n",
      "\u001b[0;32m<ipython-input-255-98782969dd88>\u001b[0m in \u001b[0;36mget_top_rec_ids_array\u001b[0;34m(pred_df, behaviors_presel_df, top_k)\u001b[0m\n\u001b[1;32m     28\u001b[0m     \u001b[0mpred_df\u001b[0m \u001b[0;34m=\u001b[0m \u001b[0mpred_df\u001b[0m\u001b[0;34m[\u001b[0m\u001b[0mpred_df\u001b[0m\u001b[0;34m[\u001b[0m\u001b[0;34m'size_list'\u001b[0m\u001b[0;34m]\u001b[0m \u001b[0;34m>=\u001b[0m \u001b[0mtop_k\u001b[0m\u001b[0;34m]\u001b[0m\u001b[0;34m\u001b[0m\u001b[0;34m\u001b[0m\u001b[0m\n\u001b[1;32m     29\u001b[0m     \u001b[0mpred_preselection_df\u001b[0m \u001b[0;34m=\u001b[0m \u001b[0mpred_df\u001b[0m\u001b[0;34m.\u001b[0m\u001b[0mmerge\u001b[0m\u001b[0;34m(\u001b[0m\u001b[0mbehaviors_presel_df\u001b[0m\u001b[0;34m[\u001b[0m\u001b[0;34m[\u001b[0m\u001b[0;34m'index'\u001b[0m\u001b[0;34m,\u001b[0m \u001b[0;34m'user'\u001b[0m\u001b[0;34m,\u001b[0m \u001b[0;34m'pool_array'\u001b[0m\u001b[0;34m]\u001b[0m\u001b[0;34m]\u001b[0m\u001b[0;34m,\u001b[0m \u001b[0mon\u001b[0m\u001b[0;34m=\u001b[0m\u001b[0;34m'index'\u001b[0m\u001b[0;34m)\u001b[0m\u001b[0;34m\u001b[0m\u001b[0;34m\u001b[0m\u001b[0m\n\u001b[0;32m---> 30\u001b[0;31m     \u001b[0mpred_preselection_df\u001b[0m\u001b[0;34m[\u001b[0m\u001b[0;34m'pred_slice_id'\u001b[0m\u001b[0;34m]\u001b[0m \u001b[0;34m=\u001b[0m \u001b[0mpred_preselection_df\u001b[0m\u001b[0;34m.\u001b[0m\u001b[0mapply\u001b[0m\u001b[0;34m(\u001b[0m\u001b[0;34m(\u001b[0m\u001b[0;32mlambda\u001b[0m \u001b[0mx\u001b[0m\u001b[0;34m:\u001b[0m \u001b[0;34m[\u001b[0m\u001b[0mstr\u001b[0m\u001b[0;34m(\u001b[0m\u001b[0mx\u001b[0m\u001b[0;34m[\u001b[0m\u001b[0;34m'pool_array'\u001b[0m\u001b[0;34m]\u001b[0m\u001b[0;34m[\u001b[0m\u001b[0mindx\u001b[0m\u001b[0;34m]\u001b[0m\u001b[0;34m)\u001b[0m \u001b[0;32mfor\u001b[0m \u001b[0mindx\u001b[0m\u001b[0;34m,\u001b[0m \u001b[0mele\u001b[0m \u001b[0;32min\u001b[0m \u001b[0menumerate\u001b[0m\u001b[0;34m(\u001b[0m\u001b[0mx\u001b[0m\u001b[0;34m[\u001b[0m\u001b[0;34m'pred_rank'\u001b[0m\u001b[0;34m]\u001b[0m\u001b[0;34m)\u001b[0m\u001b[0;34m]\u001b[0m\u001b[0;34m)\u001b[0m\u001b[0;34m,\u001b[0m \u001b[0maxis\u001b[0m\u001b[0;34m=\u001b[0m\u001b[0;36m1\u001b[0m\u001b[0;34m)\u001b[0m\u001b[0;34m\u001b[0m\u001b[0;34m\u001b[0m\u001b[0m\n\u001b[0m\u001b[1;32m     31\u001b[0m \u001b[0;31m#    pred_preselection_df['pred_slice_id'] = pred_preselection_df.apply((lambda x: [str(x['pool_array'][indx]) for indx, ele in enumerate(x['pred_rank']) if ele <= top_k]), axis=1)\u001b[0m\u001b[0;34m\u001b[0m\u001b[0;34m\u001b[0m\u001b[0m\n\u001b[1;32m     32\u001b[0m     \u001b[0mpred_preselection_df\u001b[0m \u001b[0;34m=\u001b[0m \u001b[0mpred_preselection_df\u001b[0m\u001b[0;34m.\u001b[0m\u001b[0mdrop\u001b[0m\u001b[0;34m(\u001b[0m\u001b[0;34m[\u001b[0m\u001b[0;34m'pool_array'\u001b[0m\u001b[0;34m,\u001b[0m \u001b[0;34m'pred_rank'\u001b[0m\u001b[0;34m]\u001b[0m\u001b[0;34m,\u001b[0m \u001b[0maxis\u001b[0m\u001b[0;34m=\u001b[0m\u001b[0;36m1\u001b[0m\u001b[0;34m)\u001b[0m\u001b[0;34m\u001b[0m\u001b[0;34m\u001b[0m\u001b[0m\n",
      "\u001b[0;32m/usr/local/lib/python3.9/site-packages/pandas/core/frame.py\u001b[0m in \u001b[0;36m__setitem__\u001b[0;34m(self, key, value)\u001b[0m\n\u001b[1;32m   3965\u001b[0m             \u001b[0mself\u001b[0m\u001b[0;34m.\u001b[0m\u001b[0m_setitem_array\u001b[0m\u001b[0;34m(\u001b[0m\u001b[0mkey\u001b[0m\u001b[0;34m,\u001b[0m \u001b[0mvalue\u001b[0m\u001b[0;34m)\u001b[0m\u001b[0;34m\u001b[0m\u001b[0;34m\u001b[0m\u001b[0m\n\u001b[1;32m   3966\u001b[0m         \u001b[0;32melif\u001b[0m \u001b[0misinstance\u001b[0m\u001b[0;34m(\u001b[0m\u001b[0mvalue\u001b[0m\u001b[0;34m,\u001b[0m \u001b[0mDataFrame\u001b[0m\u001b[0;34m)\u001b[0m\u001b[0;34m:\u001b[0m\u001b[0;34m\u001b[0m\u001b[0;34m\u001b[0m\u001b[0m\n\u001b[0;32m-> 3967\u001b[0;31m             \u001b[0mself\u001b[0m\u001b[0;34m.\u001b[0m\u001b[0m_set_item_frame_value\u001b[0m\u001b[0;34m(\u001b[0m\u001b[0mkey\u001b[0m\u001b[0;34m,\u001b[0m \u001b[0mvalue\u001b[0m\u001b[0;34m)\u001b[0m\u001b[0;34m\u001b[0m\u001b[0;34m\u001b[0m\u001b[0m\n\u001b[0m\u001b[1;32m   3968\u001b[0m         elif (\n\u001b[1;32m   3969\u001b[0m             \u001b[0mis_list_like\u001b[0m\u001b[0;34m(\u001b[0m\u001b[0mvalue\u001b[0m\u001b[0;34m)\u001b[0m\u001b[0;34m\u001b[0m\u001b[0;34m\u001b[0m\u001b[0m\n",
      "\u001b[0;32m/usr/local/lib/python3.9/site-packages/pandas/core/frame.py\u001b[0m in \u001b[0;36m_set_item_frame_value\u001b[0;34m(self, key, value)\u001b[0m\n\u001b[1;32m   4120\u001b[0m \u001b[0;34m\u001b[0m\u001b[0m\n\u001b[1;32m   4121\u001b[0m         \u001b[0;32mif\u001b[0m \u001b[0mlen\u001b[0m\u001b[0;34m(\u001b[0m\u001b[0mvalue\u001b[0m\u001b[0;34m.\u001b[0m\u001b[0mcolumns\u001b[0m\u001b[0;34m)\u001b[0m \u001b[0;34m!=\u001b[0m \u001b[0;36m1\u001b[0m\u001b[0;34m:\u001b[0m\u001b[0;34m\u001b[0m\u001b[0;34m\u001b[0m\u001b[0m\n\u001b[0;32m-> 4122\u001b[0;31m             raise ValueError(\n\u001b[0m\u001b[1;32m   4123\u001b[0m                 \u001b[0;34m\"Cannot set a DataFrame with multiple columns to the single \"\u001b[0m\u001b[0;34m\u001b[0m\u001b[0;34m\u001b[0m\u001b[0m\n\u001b[1;32m   4124\u001b[0m                 \u001b[0;34mf\"column {key}\"\u001b[0m\u001b[0;34m\u001b[0m\u001b[0;34m\u001b[0m\u001b[0m\n",
      "\u001b[0;31mValueError\u001b[0m: Cannot set a DataFrame with multiple columns to the single column pred_slice_id"
     ]
    }
   ],
   "source": [
    "# This will take some time due to fragmentation (around 35 min)\n",
    "PATH_PRED = current_dir+'/Globo/recommendations/'\n",
    "df_calibration_all, calibration_agg_df, df_representation_all, representation_agg_df, df_fragmentation_all, fragmentation_agg_df = read_recommendations_and_calculate_metrics( articles_df, behaviors_presel_df, sufix = sufix, algos = ['als', 'recents', 'top24h'], top_at = 9, NR_BINS = 200, path_prediction=PATH_PRED)\n",
    "#pred_preselection_df, articles_df, behaviors_presel_df, top_at = read_recommendations_and_calculate_metrics( articles_df, behaviors_presel_df, sufix = sufix, algos = ['als', 'recents', 'top24h'], top_at = 1, NR_BINS = 200, path_prediction=PATH_PRED)\n"
   ]
  },
  {
   "cell_type": "code",
   "execution_count": null,
   "metadata": {
    "ExecuteTime": {
     "end_time": "2023-06-15T11:53:42.914842Z",
     "start_time": "2023-06-15T11:53:41.792Z"
    },
    "application/vnd.databricks.v1+cell": {
     "cellMetadata": {},
     "inputWidgets": {},
     "nuid": "3f874013-51af-4c73-b811-c81928d8c3af",
     "showTitle": false,
     "title": ""
    }
   },
   "outputs": [],
   "source": [
    "df = df_calibration_all\n",
    "\n",
    "# Plot the histogram thanks to the histplot function\n",
    "sns.histplot(data=df.loc[(df[\"algo\"] == \"als\"), [\"calibration\"]], bins=200, x=\"calibration\", color=\"red\", label=\"lstur\", kde=False)\n",
    "sns.histplot(data=df.loc[(df[\"algo\"] == \"recents\"), [\"calibration\"]], bins=200, x=\"calibration\", color=\"green\", label=\"nrms\", kde=False)\n",
    "sns.histplot(data=df.loc[(df[\"algo\"] == \"top24h\"), [\"calibration\"]], bins=200, x=\"calibration\", color=\"orange\", label=\"naml\", kde=False)\n",
    "# sns.histplot(data=df.loc[(df[\"algo\"] == \"npa\"), [\"calibration\"]], bins=200, x=\"calibration\", color=\"purple\", label=\"npa\", kde=False)\n",
    "# sns.histplot(data=df.loc[(df[\"algo\"] == \"pop\"), [\"calibration\"]], bins=200, x=\"calibration\", color=\"skyblue\", label=\"pop\", kde=False)\n",
    "\n",
    "plt.title(\"Calibration distribution\")\n",
    "  \n",
    "#plt.legend(['lstur', 'nrms', 'naml', 'npa', 'pop'])\n",
    "plt.legend(['als', 'recents', 'top24h'])\n",
    "  \n",
    "plt.show()"
   ]
  },
  {
   "cell_type": "code",
   "execution_count": null,
   "metadata": {
    "ExecuteTime": {
     "end_time": "2023-06-15T11:53:42.916000Z",
     "start_time": "2023-06-15T11:53:41.793Z"
    }
   },
   "outputs": [],
   "source": [
    "df.shape"
   ]
  },
  {
   "cell_type": "code",
   "execution_count": null,
   "metadata": {
    "ExecuteTime": {
     "end_time": "2023-06-15T11:53:42.917159Z",
     "start_time": "2023-06-15T11:53:41.795Z"
    },
    "application/vnd.databricks.v1+cell": {
     "cellMetadata": {},
     "inputWidgets": {},
     "nuid": "f5f36c9f-99b4-48d1-9e2c-69bebd563b3e",
     "showTitle": false,
     "title": ""
    }
   },
   "outputs": [],
   "source": [
    "calibration_mean_std = df_calibration_all.groupby('algo').agg({'calibration':'mean'}).merge(\n",
    "                        df_calibration_all.groupby('algo').agg({'calibration':'std'}), on='algo')\n",
    "calibration_mean_std = calibration_mean_std.rename(columns={'calibration_x':'calibration_mean', \n",
    "                                                            'calibration_y':'calibration_std'}).reset_index()\n",
    "calibration_mean_std"
   ]
  },
  {
   "cell_type": "code",
   "execution_count": null,
   "metadata": {
    "ExecuteTime": {
     "end_time": "2023-06-15T11:53:42.918398Z",
     "start_time": "2023-06-15T11:53:41.796Z"
    },
    "application/vnd.databricks.v1+cell": {
     "cellMetadata": {},
     "inputWidgets": {},
     "nuid": "480ba5fc-b78c-4c7c-9bfa-08e3cd6ecf42",
     "showTitle": false,
     "title": ""
    }
   },
   "outputs": [],
   "source": [
    "df = df_representation_all\n",
    "\n",
    "sns.histplot(data=df.loc[(df[\"algo\"] == \"als\"), [\"representation\"]], bins=200, x=\"representation\", color=\"red\", label=\"lstur\", kde=False)\n",
    "sns.histplot(data=df.loc[(df[\"algo\"] == \"recents\"), [\"representation\"]], bins=200, x=\"representation\", color=\"green\", label=\"nrms\", kde=False)\n",
    "sns.histplot(data=df.loc[(df[\"algo\"] == \"top24h\"), [\"representation\"]], bins=200, x=\"representation\", color=\"orange\", label=\"naml\", kde=False)\n",
    "# sns.histplot(data=df.loc[(df[\"algo\"] == \"npa\"), [\"representation\"]], bins=200, x=\"representation\", color=\"purple\", label=\"npa\", kde=False)\n",
    "# sns.histplot(data=df.loc[(df[\"algo\"] == \"pop\"), [\"representation\"]], bins=200, x=\"representation\", color=\"skyblue\", label=\"pop\", kde=False)\n",
    "\n",
    "plt.title(\"Representation distribution\")\n",
    "  \n",
    "#plt.legend(['lstur', 'nrms', 'naml', 'npa', 'pop'])\n",
    "plt.legend(['als', 'recents', 'top24h'])\n",
    "\n",
    "plt.show()"
   ]
  },
  {
   "cell_type": "code",
   "execution_count": null,
   "metadata": {
    "ExecuteTime": {
     "end_time": "2023-06-15T11:53:42.919610Z",
     "start_time": "2023-06-15T11:53:41.797Z"
    },
    "application/vnd.databricks.v1+cell": {
     "cellMetadata": {},
     "inputWidgets": {},
     "nuid": "b424610f-b497-4b91-9587-f8c7932bb7a0",
     "showTitle": false,
     "title": ""
    }
   },
   "outputs": [],
   "source": [
    "representation_mean_std = df_representation_all.groupby('algo').agg({'representation':'mean'}).merge(\n",
    "                        df_representation_all.groupby('algo').agg({'representation':'std'}), on='algo')\n",
    "representation_mean_std = representation_mean_std.rename(columns={'representation_x':'representation_mean', \n",
    "                                                            'representation_y':'representation_std'}).reset_index()\n",
    "representation_mean_std"
   ]
  },
  {
   "cell_type": "code",
   "execution_count": null,
   "metadata": {
    "ExecuteTime": {
     "end_time": "2023-06-15T11:53:42.921292Z",
     "start_time": "2023-06-15T11:53:41.798Z"
    }
   },
   "outputs": [],
   "source": [
    "df_fragmentation_all.shape"
   ]
  },
  {
   "cell_type": "code",
   "execution_count": null,
   "metadata": {
    "ExecuteTime": {
     "end_time": "2023-06-15T11:53:42.922823Z",
     "start_time": "2023-06-15T11:53:41.799Z"
    }
   },
   "outputs": [],
   "source": [
    "df = df_fragmentation_all\n",
    "  \n",
    "sns.histplot(data=df.loc[(df[\"algo\"] == \"als\"), [\"fragmentation\"]], bins=200, x=\"fragmentation\", color=\"red\", label=\"lstur\", kde=False)\n",
    "sns.histplot(data=df.loc[(df[\"algo\"] == \"recents\"), [\"fragmentation\"]], bins=200, x=\"fragmentation\", color=\"green\", label=\"nrms\", kde=False)\n",
    "sns.histplot(data=df.loc[(df[\"algo\"] == \"top24h\"), [\"fragmentation\"]], bins=200, x=\"fragmentation\", color=\"orange\", label=\"naml\", kde=False)\n",
    "# sns.histplot(data=df.loc[(df[\"algo\"] == \"npa\"), [\"fragmentation\"]], bins=200, x=\"fragmentation\", color=\"purple\", label=\"npa\", kde=False)\n",
    "# sns.histplot(data=df.loc[(df[\"algo\"] == \"pop\"), [\"fragmentation\"]], bins=200, x=\"fragmentation\", color=\"skyblue\", label=\"pop\", kde=False)\n",
    "\n",
    "plt.title(\"Fragmentation distribution\")\n",
    "  \n",
    "#plt.legend(['lstur', 'nrms', 'naml', 'npa', 'pop'])\n",
    "plt.legend(['als', 'recents', 'top24h'])\n",
    "  \n",
    "plt.show()"
   ]
  },
  {
   "cell_type": "code",
   "execution_count": null,
   "metadata": {
    "ExecuteTime": {
     "end_time": "2023-06-15T11:53:42.924240Z",
     "start_time": "2023-06-15T11:53:41.800Z"
    },
    "scrolled": true
   },
   "outputs": [],
   "source": [
    "fragmentation_mean_std = df_fragmentation_all.groupby('algo').agg({'fragmentation':'mean'}).merge(\n",
    "                        df_fragmentation_all.groupby('algo').agg({'fragmentation':'std'}), on='algo')\n",
    "fragmentation_mean_std = fragmentation_mean_std.rename(columns={'fragmentation_x':'fragmentation_mean', \n",
    "                                                            'fragmentation_y':'fragmentation_std'}).reset_index()\n",
    "fragmentation_mean_std"
   ]
  },
  {
   "cell_type": "code",
   "execution_count": null,
   "metadata": {},
   "outputs": [],
   "source": []
  }
 ],
 "metadata": {
  "application/vnd.databricks.v1+notebook": {
   "dashboards": [],
   "language": "python",
   "notebookMetadata": {
    "pythonIndentUnit": 2
   },
   "notebookName": "RADio metrec with MIND",
   "notebookOrigID": 3720487088895143,
   "widgets": {}
  },
  "kernelspec": {
   "display_name": "Python 3",
   "language": "python",
   "name": "python3"
  },
  "language_info": {
   "codemirror_mode": {
    "name": "ipython",
    "version": 3
   },
   "file_extension": ".py",
   "mimetype": "text/x-python",
   "name": "python",
   "nbconvert_exporter": "python",
   "pygments_lexer": "ipython3",
   "version": "3.9.16"
  },
  "toc": {
   "base_numbering": 1,
   "nav_menu": {},
   "number_sections": true,
   "sideBar": true,
   "skip_h1_title": false,
   "title_cell": "Table of Contents",
   "title_sidebar": "Contents",
   "toc_cell": true,
   "toc_position": {},
   "toc_section_display": true,
   "toc_window_display": false
  },
  "varInspector": {
   "cols": {
    "lenName": 16,
    "lenType": 16,
    "lenVar": 40
   },
   "kernels_config": {
    "python": {
     "delete_cmd_postfix": "",
     "delete_cmd_prefix": "del ",
     "library": "var_list.py",
     "varRefreshCmd": "print(var_dic_list())"
    },
    "r": {
     "delete_cmd_postfix": ") ",
     "delete_cmd_prefix": "rm(",
     "library": "var_list.r",
     "varRefreshCmd": "cat(var_dic_list()) "
    }
   },
   "types_to_exclude": [
    "module",
    "function",
    "builtin_function_or_method",
    "instance",
    "_Feature"
   ],
   "window_display": false
  },
  "vscode": {
   "interpreter": {
    "hash": "38cca0c38332a56087b24af0bc80247f4fced29cb4f7f437d91dc159adec9c4e"
   }
  }
 },
 "nbformat": 4,
 "nbformat_minor": 1
}
