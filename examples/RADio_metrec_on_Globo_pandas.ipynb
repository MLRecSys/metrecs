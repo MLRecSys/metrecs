{
 "cells": [
  {
   "attachments": {},
   "cell_type": "markdown",
   "metadata": {
    "toc": true
   },
   "source": [
    "<h1>Table of Contents<span class=\"tocSkip\"></span></h1>\n",
    "<div class=\"toc\"><ul class=\"toc-item\"></ul></div>"
   ]
  },
  {
   "cell_type": "markdown",
   "metadata": {},
   "source": [
    "# Importing Libraries"
   ]
  },
  {
   "cell_type": "code",
   "execution_count": 1,
   "metadata": {
    "ExecuteTime": {
     "end_time": "2023-06-15T11:53:41.777611Z",
     "start_time": "2023-06-15T11:53:41.772889Z"
    },
    "application/vnd.databricks.v1+cell": {
     "cellMetadata": {},
     "inputWidgets": {},
     "nuid": "fda62179-b1d3-498d-bd30-94ef80de57f8",
     "showTitle": false,
     "title": ""
    }
   },
   "outputs": [],
   "source": [
    "import datetime\n",
    "import time\n",
    "import numpy as np\n",
    "import math\n",
    "import os\n",
    "import sys\n",
    "import pandas as pd\n",
    "import matplotlib.pyplot as plt\n",
    "import seaborn as sns\n",
    "import json\n",
    "\n",
    "from typing import Tuple"
   ]
  },
  {
   "cell_type": "code",
   "execution_count": 2,
   "metadata": {},
   "outputs": [
    {
     "data": {
      "text/plain": [
       "'/Users/joel.pinho/Joel/External/NPR Dataset/metrecs/examples'"
      ]
     },
     "execution_count": 2,
     "metadata": {},
     "output_type": "execute_result"
    }
   ],
   "source": [
    "os.getcwd()"
   ]
  },
  {
   "cell_type": "code",
   "execution_count": 3,
   "metadata": {},
   "outputs": [],
   "source": [
    "sys.path.insert(1, '../src/')\n",
    "\n",
    "from metrecs.utils import (\n",
    "    harmonic_number,\n",
    "    normalized_scaled_harmonic_number_series,\n",
    "    compute_normalized_distribution_multiple_categories,\n",
    "    opt_merge_max_mappings,\n",
    "    avoid_distribution_misspecification,\n",
    "    user_level_RADio_multicategorical\n",
    ")"
   ]
  },
  {
   "cell_type": "markdown",
   "metadata": {},
   "source": [
    "# Inputing Data"
   ]
  },
  {
   "cell_type": "code",
   "execution_count": 4,
   "metadata": {},
   "outputs": [
    {
     "data": {
      "text/plain": [
       "'/Users/joel.pinho/Joel/External/NPR Dataset/metrecs/examples'"
      ]
     },
     "execution_count": 4,
     "metadata": {},
     "output_type": "execute_result"
    }
   ],
   "source": [
    "# os.chdir('./examples/')\n",
    "os.getcwd()"
   ]
  },
  {
   "cell_type": "code",
   "execution_count": 5,
   "metadata": {},
   "outputs": [],
   "source": [
    "top_at = 10"
   ]
  },
  {
   "cell_type": "code",
   "execution_count": 6,
   "metadata": {},
   "outputs": [],
   "source": [
    "DATASET, SUFFIX = 'Globo', 'medium'\n",
    "# DATASET, SUFFIX = 'MIND', 'small'\n",
    "\n",
    "with open(\"paths.json\") as f:\n",
    "    paths = json.load(f)\n",
    "\n",
    "PATH_BEHAVIOURS = paths[DATASET][\"behaviours\"]\n",
    "PATH_ARTICLES = paths[DATASET][\"articles\"]\n",
    "PATH_PREDICTIONS = paths[DATASET][\"predictions\"]\n",
    "\n",
    "if DATASET == 'Globo':\n",
    "    from utils import globo as dataset\n",
    "    \n",
    "    articles_df = dataset.read_articles(path=PATH_ARTICLES)\n",
    "    behaviors_presel_df = dataset.read_behavior(path=PATH_BEHAVIOURS)\n",
    "\n",
    "    pred_preselection_df = pd.DataFrame()\n",
    "    for algo, algo_path_predictions in PATH_PREDICTIONS.items():\n",
    "        _, temp_df = dataset.read_predictions(\n",
    "            algo_path_predictions, behaviors_presel_df, top_k=10, algo=algo\n",
    "        )\n",
    "        pred_preselection_df = pd.concat([pred_preselection_df, temp_df])\n",
    "\n",
    "elif DATASET == 'MIND':\n",
    "    from utils import mind as dataset\n",
    "    \n",
    "    articles_df = dataset.read_articles(path=PATH_ARTICLES)\n",
    "    behaviors_presel_df = dataset.read_behavior(path=PATH_BEHAVIOURS)\n",
    "\n",
    "results_path = f'examples/results/{DATASET}'\n"
   ]
  },
  {
   "cell_type": "code",
   "execution_count": 7,
   "metadata": {},
   "outputs": [
    {
     "data": {
      "text/plain": [
       "(65298, 10)"
      ]
     },
     "execution_count": 7,
     "metadata": {},
     "output_type": "execute_result"
    }
   ],
   "source": [
    "articles_df.shape"
   ]
  },
  {
   "cell_type": "code",
   "execution_count": 8,
   "metadata": {},
   "outputs": [
    {
     "data": {
      "text/plain": [
       "(92700, 20)"
      ]
     },
     "execution_count": 8,
     "metadata": {},
     "output_type": "execute_result"
    }
   ],
   "source": [
    "behaviors_presel_df.shape"
   ]
  },
  {
   "cell_type": "code",
   "execution_count": 9,
   "metadata": {},
   "outputs": [
    {
     "name": "stdout",
     "output_type": "stream",
     "text": [
      "{'als': 'Globo/raw/npr_recommendations_als_v2.parquet', 'recents': 'Globo/raw/npr_recommendations_recents_v2.parquet', 'top': 'Globo/raw/npr_recommendations_top_v2.parquet'}\n"
     ]
    }
   ],
   "source": [
    "print(PATH_PREDICTIONS)"
   ]
  },
  {
   "cell_type": "markdown",
   "metadata": {},
   "source": [
    "# Basic Functions to Compute Metrics"
   ]
  },
  {
   "cell_type": "code",
   "execution_count": 10,
   "metadata": {},
   "outputs": [],
   "source": [
    "def get_classic_calibration(\n",
    "    pred_preselection_df: pd.DataFrame,\n",
    "    articles_df: pd.DataFrame,\n",
    "    behaviors_presel_df: pd.DataFrame,\n",
    "    cat_column: str,\n",
    "    top_at: int,\n",
    ") -> pd.DataFrame:\n",
    "    df_cat = dataset.get_cat(\n",
    "        pred_preselection_df,\n",
    "        articles_df,\n",
    "        \"pred_slice_id\",\n",
    "        cat_column,\n",
    "        top_at,\n",
    "        slice_col=True,\n",
    "    )\n",
    "\n",
    "    df_cat_history = dataset.get_cat(\n",
    "        behaviors_presel_df[[\"index\", \"user\", \"behavior_array\"]],\n",
    "        articles_df,\n",
    "        \"behavior_array\",\n",
    "        cat_column,\n",
    "        top_at,\n",
    "        slice_col=False,\n",
    "    )\n",
    "    df_cat_history = df_cat_history.rename(\n",
    "        columns={\n",
    "            \"sorted_cat_list\": \"history_cat_list\",\n",
    "            \"sorted_newsid_list\": \"history_newsid_list\",\n",
    "        }\n",
    "    )\n",
    "\n",
    "    df_calibration = df_cat.merge(df_cat_history, on=[\"index\", \"user\"], how=\"inner\")\n",
    "    df_calibration[\"calibration\"] = df_calibration.apply(\n",
    "        lambda row: user_level_RADio_multicategorical(\n",
    "            row[\"sorted_cat_list\"],\n",
    "            row[\"history_cat_list\"],\n",
    "            list(normalized_scaled_harmonic_number_series(len(row[\"sorted_cat_list\"]))),\n",
    "        ),\n",
    "        axis=1,\n",
    "    )\n",
    "    return df_calibration"
   ]
  },
  {
   "cell_type": "code",
   "execution_count": 11,
   "metadata": {},
   "outputs": [],
   "source": [
    "def get_classic_representation(\n",
    "    pred_preselection_df: pd.DataFrame,\n",
    "    articles_df: pd.DataFrame,\n",
    "    behaviors_presel_df: pd.DataFrame,\n",
    "    cat_column: str,\n",
    "    top_at: int,\n",
    ") -> pd.DataFrame:\n",
    "    df_cat = dataset.get_cat(\n",
    "        pred_preselection_df,\n",
    "        articles_df,\n",
    "        \"pred_slice_id\",\n",
    "        cat_column,\n",
    "        top_at,\n",
    "        slice_col=True,\n",
    "    )\n",
    "\n",
    "    df_cat_pool = dataset.get_cat(\n",
    "        behaviors_presel_df[[\"index\", \"user\", \"pool_array\"]],\n",
    "        articles_df,\n",
    "        \"pool_array\",\n",
    "        cat_column,\n",
    "        top_at,\n",
    "        slice_col=False,\n",
    "    )\n",
    "    df_cat_pool = df_cat_pool.rename(\n",
    "        columns={\n",
    "            \"sorted_cat_list\": \"pool_cat_list\",\n",
    "            \"sorted_newsid_list\": \"pool_newsid_list\",\n",
    "        }\n",
    "    )\n",
    "\n",
    "    df_representation = df_cat.merge(df_cat_pool, on=[\"index\", \"user\"], how=\"inner\")\n",
    "\n",
    "    df_representation[\"representation\"] = df_representation.apply(\n",
    "        lambda row: user_level_RADio_multicategorical(\n",
    "            row[\"sorted_cat_list\"],\n",
    "            row[\"pool_cat_list\"],\n",
    "            list(normalized_scaled_harmonic_number_series(len(row[\"sorted_cat_list\"]))),\n",
    "        ),\n",
    "        axis=1,\n",
    "    )\n",
    "\n",
    "    return df_representation\n"
   ]
  },
  {
   "cell_type": "code",
   "execution_count": 12,
   "metadata": {},
   "outputs": [],
   "source": [
    "def get_classic_fragmentation(\n",
    "    pred_preselection_df: pd.DataFrame,\n",
    "    articles_df: pd.DataFrame,\n",
    "    cat_column: str,\n",
    "    top_at: int,\n",
    "    sample_size: float = 0.05,\n",
    ") -> pd.DataFrame:\n",
    "    df_cat = dataset.get_cat(\n",
    "        pred_preselection_df,\n",
    "        articles_df,\n",
    "        \"pred_slice_id\",\n",
    "        cat_column,\n",
    "        top_at,\n",
    "        slice_col=True,\n",
    "    )\n",
    "    df_cat2 = df_cat.sample(frac=0.01).rename(\n",
    "        columns={\n",
    "            \"index\": \"other_index\",\n",
    "            \"user\": \"other_user\",\n",
    "            \"sorted_cat_list\": \"rec_cat_list\",\n",
    "            \"sorted_newsid_list\": \"rec_newsid\",\n",
    "            \"algo\": \"other_algo\",\n",
    "        }\n",
    "    )\n",
    "    df_cat[\"key\"] = 0\n",
    "    df_cat2[\"key\"] = 0\n",
    "\n",
    "    df_cat_cat = df_cat.merge(df_cat2, on=\"key\", how=\"outer\")\n",
    "    df_cat_cat = df_cat_cat.drop([\"key\"], axis=1)\n",
    "    df_cat_cat = df_cat_cat[df_cat_cat[\"index\"] != df_cat_cat[\"other_index\"]]\n",
    "\n",
    "    df_cat_cat[\"fragmentation_detail\"] = df_cat_cat.apply(\n",
    "        lambda row: user_level_RADio_multicategorical(\n",
    "            row[\"sorted_cat_list\"],\n",
    "            row[\"rec_cat_list\"],\n",
    "            list(normalized_scaled_harmonic_number_series(len(row[\"sorted_cat_list\"]))),\n",
    "            list(normalized_scaled_harmonic_number_series(len(row[\"rec_cat_list\"]))),\n",
    "        ),\n",
    "        axis=1,\n",
    "    )\n",
    "    df_fragmentation = df_cat_cat.groupby([\"index\", \"user\", \"algo\"]).agg(\n",
    "        {\"fragmentation_detail\": \"mean\"}\n",
    "    )\n",
    "    df_fragmentation = df_fragmentation.rename(\n",
    "        columns={\"fragmentation_detail\": \"fragmentation\"}\n",
    "    ).reset_index()\n",
    "    return df_fragmentation\n"
   ]
  },
  {
   "cell_type": "markdown",
   "metadata": {},
   "source": [
    "# Calculating Metrics"
   ]
  },
  {
   "cell_type": "markdown",
   "metadata": {},
   "source": [
    "Running for all data might take a while (4h-8h), so that sampling could be useful."
   ]
  },
  {
   "cell_type": "code",
   "execution_count": 13,
   "metadata": {},
   "outputs": [],
   "source": [
    "pred_preselection_df = pred_preselection_df.sample(10000)"
   ]
  },
  {
   "cell_type": "code",
   "execution_count": 14,
   "metadata": {},
   "outputs": [],
   "source": [
    "def calculate_metrics(\n",
    "    articles_df: pd.DataFrame,\n",
    "    behaviors_presel_df: pd.DataFrame,\n",
    "    pred_preselection_df: pd.DataFrame,\n",
    "    algo: str,\n",
    "    top_at: int = 10,\n",
    "    NR_BINS: int = 200,\n",
    ") -> Tuple[pd.DataFrame, pd.DataFrame, pd.DataFrame]:\n",
    "    df_calibration = get_classic_calibration(\n",
    "        pred_preselection_df,\n",
    "        articles_df,\n",
    "        behaviors_presel_df,\n",
    "        \"cat_as_list\",\n",
    "        top_at,\n",
    "    )\n",
    "\n",
    "    df_calibration = df_calibration[[\"index\", \"user\", \"calibration\", \"algo\"]]\n",
    "\n",
    "    df_calibration[\"calibration_bin\"] = df_calibration.apply(\n",
    "        lambda row: round(row[\"calibration\"] * NR_BINS, 0) / NR_BINS, axis=1\n",
    "    )\n",
    "\n",
    "    df_representation = get_classic_representation(\n",
    "        pred_preselection_df, articles_df, behaviors_presel_df, \"cat_subcat\", top_at\n",
    "    )\n",
    "    df_representation = df_representation[[\"index\", \"user\", \"representation\", \"algo\"]]\n",
    "\n",
    "    df_representation[\"representation_bin\"] = df_representation.apply(\n",
    "        lambda row: round(row[\"representation\"] * NR_BINS, 0) / NR_BINS, axis=1\n",
    "    )\n",
    "\n",
    "    df_fragmentation = get_classic_fragmentation(\n",
    "        pred_preselection_df, articles_df, \"cat_subcat\", top_at, sample_size=0.02\n",
    "    )\n",
    "\n",
    "    if df_fragmentation.shape[0] > 0:\n",
    "        df_fragmentation[\"fragmentation_bin\"] = df_fragmentation.apply(\n",
    "            lambda row: round(row[\"fragmentation\"] * NR_BINS, 0) / NR_BINS, axis=1\n",
    "        )\n",
    "\n",
    "    return (df_calibration, df_representation, df_fragmentation)"
   ]
  },
  {
   "cell_type": "code",
   "execution_count": 15,
   "metadata": {},
   "outputs": [],
   "source": [
    "df_calibration, df_representation, df_fragmentation = calculate_metrics(\n",
    "    articles_df,\n",
    "    behaviors_presel_df,\n",
    "    pred_preselection_df,\n",
    "    algo=algo,\n",
    "    top_at=top_at,\n",
    "    NR_BINS=200,\n",
    ")"
   ]
  },
  {
   "cell_type": "markdown",
   "metadata": {},
   "source": [
    "# Calibration"
   ]
  },
  {
   "cell_type": "code",
   "execution_count": 16,
   "metadata": {
    "ExecuteTime": {
     "end_time": "2023-06-15T11:53:42.916000Z",
     "start_time": "2023-06-15T11:53:41.793Z"
    }
   },
   "outputs": [
    {
     "data": {
      "image/png": "[encoded data removed]",
      "text/plain": [
       "<Figure size 640x480 with 1 Axes>"
      ]
     },
     "metadata": {},
     "output_type": "display_data"
    }
   ],
   "source": [
    "df = df_calibration\n",
    "\n",
    "# Plot the histogram thanks to the histplot function\n",
    "sns.histplot(data=df.loc[(df[\"algo\"] == \"als\"), [\"calibration\"]], bins=200, x=\"calibration\", color=\"red\", label=\"lstur\", kde=False)\n",
    "sns.histplot(data=df.loc[(df[\"algo\"] == \"recents\"), [\"calibration\"]], bins=200, x=\"calibration\", color=\"green\", label=\"nrms\", kde=False)\n",
    "sns.histplot(data=df.loc[(df[\"algo\"] == \"top24h\"), [\"calibration\"]], bins=200, x=\"calibration\", color=\"orange\", label=\"naml\", kde=False)\n",
    "# sns.histplot(data=df.loc[(df[\"algo\"] == \"npa\"), [\"calibration\"]], bins=200, x=\"calibration\", color=\"purple\", label=\"npa\", kde=False)\n",
    "# sns.histplot(data=df.loc[(df[\"algo\"] == \"pop\"), [\"calibration\"]], bins=200, x=\"calibration\", color=\"skyblue\", label=\"pop\", kde=False)\n",
    "\n",
    "plt.title(\"Calibration distribution\")\n",
    "  \n",
    "#plt.legend(['lstur', 'nrms', 'naml', 'npa', 'pop'])\n",
    "plt.legend(['als', 'recents', 'top24h'])\n",
    "  \n",
    "plt.show()"
   ]
  },
  {
   "cell_type": "code",
   "execution_count": 17,
   "metadata": {
    "ExecuteTime": {
     "end_time": "2023-06-15T11:53:42.917159Z",
     "start_time": "2023-06-15T11:53:41.795Z"
    },
    "application/vnd.databricks.v1+cell": {
     "cellMetadata": {},
     "inputWidgets": {},
     "nuid": "f5f36c9f-99b4-48d1-9e2c-69bebd563b3e",
     "showTitle": false,
     "title": ""
    }
   },
   "outputs": [
    {
     "data": {
      "text/html": [
       "<div>\n",
       "<style scoped>\n",
       "    .dataframe tbody tr th:only-of-type {\n",
       "        vertical-align: middle;\n",
       "    }\n",
       "\n",
       "    .dataframe tbody tr th {\n",
       "        vertical-align: top;\n",
       "    }\n",
       "\n",
       "    .dataframe thead th {\n",
       "        text-align: right;\n",
       "    }\n",
       "</style>\n",
       "<table border=\"1\" class=\"dataframe\">\n",
       "  <thead>\n",
       "    <tr style=\"text-align: right;\">\n",
       "      <th></th>\n",
       "      <th>algo</th>\n",
       "      <th>calibration_mean</th>\n",
       "      <th>calibration_std</th>\n",
       "    </tr>\n",
       "  </thead>\n",
       "  <tbody>\n",
       "    <tr>\n",
       "      <th>0</th>\n",
       "      <td>als</td>\n",
       "      <td>0.789930</td>\n",
       "      <td>0.148645</td>\n",
       "    </tr>\n",
       "    <tr>\n",
       "      <th>1</th>\n",
       "      <td>recents</td>\n",
       "      <td>0.792986</td>\n",
       "      <td>0.146468</td>\n",
       "    </tr>\n",
       "    <tr>\n",
       "      <th>2</th>\n",
       "      <td>top</td>\n",
       "      <td>0.791163</td>\n",
       "      <td>0.145021</td>\n",
       "    </tr>\n",
       "  </tbody>\n",
       "</table>\n",
       "</div>"
      ],
      "text/plain": [
       "      algo  calibration_mean  calibration_std\n",
       "0      als          0.789930         0.148645\n",
       "1  recents          0.792986         0.146468\n",
       "2      top          0.791163         0.145021"
      ]
     },
     "execution_count": 17,
     "metadata": {},
     "output_type": "execute_result"
    }
   ],
   "source": [
    "calibration_mean_std = df.groupby('algo').agg({'calibration':'mean'}).merge(\n",
    "                        df.groupby('algo').agg({'calibration':'std'}), on='algo')\n",
    "calibration_mean_std = calibration_mean_std.rename(columns={'calibration_x':'calibration_mean', \n",
    "                                                            'calibration_y':'calibration_std'}).reset_index()\n",
    "calibration_mean_std"
   ]
  },
  {
   "cell_type": "markdown",
   "metadata": {},
   "source": [
    "# Representation"
   ]
  },
  {
   "cell_type": "code",
   "execution_count": 18,
   "metadata": {
    "ExecuteTime": {
     "end_time": "2023-06-15T11:53:42.918398Z",
     "start_time": "2023-06-15T11:53:41.796Z"
    },
    "application/vnd.databricks.v1+cell": {
     "cellMetadata": {},
     "inputWidgets": {},
     "nuid": "480ba5fc-b78c-4c7c-9bfa-08e3cd6ecf42",
     "showTitle": false,
     "title": ""
    }
   },
   "outputs": [
    {
     "data": {
      "image/png": "[encoded data removed]",
      "text/plain": [
       "<Figure size 640x480 with 1 Axes>"
      ]
     },
     "metadata": {},
     "output_type": "display_data"
    }
   ],
   "source": [
    "df = df_representation\n",
    "\n",
    "sns.histplot(data=df.loc[(df[\"algo\"] == \"als\"), [\"representation\"]], bins=200, x=\"representation\", color=\"red\", label=\"lstur\", kde=False)\n",
    "sns.histplot(data=df.loc[(df[\"algo\"] == \"recents\"), [\"representation\"]], bins=200, x=\"representation\", color=\"green\", label=\"nrms\", kde=False)\n",
    "sns.histplot(data=df.loc[(df[\"algo\"] == \"top24h\"), [\"representation\"]], bins=200, x=\"representation\", color=\"orange\", label=\"naml\", kde=False)\n",
    "# sns.histplot(data=df.loc[(df[\"algo\"] == \"npa\"), [\"representation\"]], bins=200, x=\"representation\", color=\"purple\", label=\"npa\", kde=False)\n",
    "# sns.histplot(data=df.loc[(df[\"algo\"] == \"pop\"), [\"representation\"]], bins=200, x=\"representation\", color=\"skyblue\", label=\"pop\", kde=False)\n",
    "\n",
    "plt.title(\"Representation distribution\")\n",
    "  \n",
    "#plt.legend(['lstur', 'nrms', 'naml', 'npa', 'pop'])\n",
    "plt.legend(['als', 'recents', 'top24h'])\n",
    "\n",
    "plt.show()"
   ]
  },
  {
   "cell_type": "code",
   "execution_count": 19,
   "metadata": {
    "ExecuteTime": {
     "end_time": "2023-06-15T11:53:42.919610Z",
     "start_time": "2023-06-15T11:53:41.797Z"
    },
    "application/vnd.databricks.v1+cell": {
     "cellMetadata": {},
     "inputWidgets": {},
     "nuid": "b424610f-b497-4b91-9587-f8c7932bb7a0",
     "showTitle": false,
     "title": ""
    }
   },
   "outputs": [
    {
     "data": {
      "text/html": [
       "<div>\n",
       "<style scoped>\n",
       "    .dataframe tbody tr th:only-of-type {\n",
       "        vertical-align: middle;\n",
       "    }\n",
       "\n",
       "    .dataframe tbody tr th {\n",
       "        vertical-align: top;\n",
       "    }\n",
       "\n",
       "    .dataframe thead th {\n",
       "        text-align: right;\n",
       "    }\n",
       "</style>\n",
       "<table border=\"1\" class=\"dataframe\">\n",
       "  <thead>\n",
       "    <tr style=\"text-align: right;\">\n",
       "      <th></th>\n",
       "      <th>algo</th>\n",
       "      <th>representation_mean</th>\n",
       "      <th>representation_std</th>\n",
       "    </tr>\n",
       "  </thead>\n",
       "  <tbody>\n",
       "    <tr>\n",
       "      <th>0</th>\n",
       "      <td>als</td>\n",
       "      <td>0.285745</td>\n",
       "      <td>0.122123</td>\n",
       "    </tr>\n",
       "    <tr>\n",
       "      <th>1</th>\n",
       "      <td>recents</td>\n",
       "      <td>0.282557</td>\n",
       "      <td>0.119814</td>\n",
       "    </tr>\n",
       "    <tr>\n",
       "      <th>2</th>\n",
       "      <td>top</td>\n",
       "      <td>0.290161</td>\n",
       "      <td>0.129076</td>\n",
       "    </tr>\n",
       "  </tbody>\n",
       "</table>\n",
       "</div>"
      ],
      "text/plain": [
       "      algo  representation_mean  representation_std\n",
       "0      als             0.285745            0.122123\n",
       "1  recents             0.282557            0.119814\n",
       "2      top             0.290161            0.129076"
      ]
     },
     "execution_count": 19,
     "metadata": {},
     "output_type": "execute_result"
    }
   ],
   "source": [
    "representation_mean_std = df.groupby('algo').agg({'representation':'mean'}).merge(\n",
    "                        df.groupby('algo').agg({'representation':'std'}), on='algo')\n",
    "representation_mean_std = representation_mean_std.rename(columns={'representation_x':'representation_mean', \n",
    "                                                            'representation_y':'representation_std'}).reset_index()\n",
    "representation_mean_std"
   ]
  },
  {
   "cell_type": "markdown",
   "metadata": {},
   "source": [
    "# Fragmentation"
   ]
  },
  {
   "cell_type": "code",
   "execution_count": 20,
   "metadata": {
    "ExecuteTime": {
     "end_time": "2023-06-15T11:53:42.922823Z",
     "start_time": "2023-06-15T11:53:41.799Z"
    }
   },
   "outputs": [
    {
     "data": {
      "image/png": "[encoded data removed]",
      "text/plain": [
       "<Figure size 640x480 with 1 Axes>"
      ]
     },
     "metadata": {},
     "output_type": "display_data"
    }
   ],
   "source": [
    "df = df_fragmentation\n",
    "  \n",
    "sns.histplot(data=df.loc[(df[\"algo\"] == \"als\"), [\"fragmentation\"]], bins=200, x=\"fragmentation\", color=\"red\", label=\"lstur\", kde=False)\n",
    "sns.histplot(data=df.loc[(df[\"algo\"] == \"recents\"), [\"fragmentation\"]], bins=200, x=\"fragmentation\", color=\"green\", label=\"nrms\", kde=False)\n",
    "sns.histplot(data=df.loc[(df[\"algo\"] == \"top24h\"), [\"fragmentation\"]], bins=200, x=\"fragmentation\", color=\"orange\", label=\"naml\", kde=False)\n",
    "# sns.histplot(data=df.loc[(df[\"algo\"] == \"npa\"), [\"fragmentation\"]], bins=200, x=\"fragmentation\", color=\"purple\", label=\"npa\", kde=False)\n",
    "# sns.histplot(data=df.loc[(df[\"algo\"] == \"pop\"), [\"fragmentation\"]], bins=200, x=\"fragmentation\", color=\"skyblue\", label=\"pop\", kde=False)\n",
    "\n",
    "plt.title(\"Fragmentation distribution\")\n",
    "  \n",
    "#plt.legend(['lstur', 'nrms', 'naml', 'npa', 'pop'])\n",
    "plt.legend(['als', 'recents', 'top24h'])\n",
    "  \n",
    "plt.show()"
   ]
  },
  {
   "cell_type": "code",
   "execution_count": 21,
   "metadata": {
    "ExecuteTime": {
     "end_time": "2023-06-15T11:53:42.924240Z",
     "start_time": "2023-06-15T11:53:41.800Z"
    },
    "scrolled": true
   },
   "outputs": [
    {
     "data": {
      "text/html": [
       "<div>\n",
       "<style scoped>\n",
       "    .dataframe tbody tr th:only-of-type {\n",
       "        vertical-align: middle;\n",
       "    }\n",
       "\n",
       "    .dataframe tbody tr th {\n",
       "        vertical-align: top;\n",
       "    }\n",
       "\n",
       "    .dataframe thead th {\n",
       "        text-align: right;\n",
       "    }\n",
       "</style>\n",
       "<table border=\"1\" class=\"dataframe\">\n",
       "  <thead>\n",
       "    <tr style=\"text-align: right;\">\n",
       "      <th></th>\n",
       "      <th>algo</th>\n",
       "      <th>fragmentation_mean</th>\n",
       "      <th>fragmentation_std</th>\n",
       "    </tr>\n",
       "  </thead>\n",
       "  <tbody>\n",
       "    <tr>\n",
       "      <th>0</th>\n",
       "      <td>als</td>\n",
       "      <td>0.81325</td>\n",
       "      <td>0.048149</td>\n",
       "    </tr>\n",
       "    <tr>\n",
       "      <th>1</th>\n",
       "      <td>recents</td>\n",
       "      <td>0.81508</td>\n",
       "      <td>0.047167</td>\n",
       "    </tr>\n",
       "    <tr>\n",
       "      <th>2</th>\n",
       "      <td>top</td>\n",
       "      <td>0.81486</td>\n",
       "      <td>0.047070</td>\n",
       "    </tr>\n",
       "  </tbody>\n",
       "</table>\n",
       "</div>"
      ],
      "text/plain": [
       "      algo  fragmentation_mean  fragmentation_std\n",
       "0      als             0.81325           0.048149\n",
       "1  recents             0.81508           0.047167\n",
       "2      top             0.81486           0.047070"
      ]
     },
     "execution_count": 21,
     "metadata": {},
     "output_type": "execute_result"
    }
   ],
   "source": [
    "fragmentation_mean_std = df.groupby('algo').agg({'fragmentation':'mean'}).merge(\n",
    "                        df.groupby('algo').agg({'fragmentation':'std'}), on='algo')\n",
    "fragmentation_mean_std = fragmentation_mean_std.rename(columns={'fragmentation_x':'fragmentation_mean', \n",
    "                                                            'fragmentation_y':'fragmentation_std'}).reset_index()\n",
    "fragmentation_mean_std"
   ]
  },
  {
   "cell_type": "code",
   "execution_count": null,
   "metadata": {},
   "outputs": [],
   "source": []
  }
 ],
 "metadata": {
  "application/vnd.databricks.v1+notebook": {
   "dashboards": [],
   "language": "python",
   "notebookMetadata": {
    "pythonIndentUnit": 2
   },
   "notebookName": "RADio metrec with MIND",
   "notebookOrigID": 3720487088895143,
   "widgets": {}
  },
  "kernelspec": {
   "display_name": "Python 3 (ipykernel)",
   "language": "python",
   "name": "python3"
  },
  "language_info": {
   "codemirror_mode": {
    "name": "ipython",
    "version": 3
   },
   "file_extension": ".py",
   "mimetype": "text/x-python",
   "name": "python",
   "nbconvert_exporter": "python",
   "pygments_lexer": "ipython3",
   "version": "3.12.2"
  },
  "toc": {
   "base_numbering": 1,
   "nav_menu": {},
   "number_sections": true,
   "sideBar": true,
   "skip_h1_title": false,
   "title_cell": "Table of Contents",
   "title_sidebar": "Contents",
   "toc_cell": true,
   "toc_position": {},
   "toc_section_display": true,
   "toc_window_display": false
  },
  "varInspector": {
   "cols": {
    "lenName": 16,
    "lenType": 16,
    "lenVar": 40
   },
   "kernels_config": {
    "python": {
     "delete_cmd_postfix": "",
     "delete_cmd_prefix": "del ",
     "library": "var_list.py",
     "varRefreshCmd": "print(var_dic_list())"
    },
    "r": {
     "delete_cmd_postfix": ") ",
     "delete_cmd_prefix": "rm(",
     "library": "var_list.r",
     "varRefreshCmd": "cat(var_dic_list()) "
    }
   },
   "types_to_exclude": [
    "module",
    "function",
    "builtin_function_or_method",
    "instance",
    "_Feature"
   ],
   "window_display": false
  },
  "vscode": {
   "interpreter": {
    "hash": "38cca0c38332a56087b24af0bc80247f4fced29cb4f7f437d91dc159adec9c4e"
   }
  }
 },
 "nbformat": 4,
 "nbformat_minor": 4
}
