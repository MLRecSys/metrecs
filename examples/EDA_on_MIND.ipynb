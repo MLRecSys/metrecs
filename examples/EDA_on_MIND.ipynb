{
 "cells": [
  {
   "cell_type": "code",
   "execution_count": 17,
   "metadata": {},
   "outputs": [],
   "source": [
    "import os\n",
    "import sys\n",
    "import numpy as np\n",
    "import pandas as pd\n",
    "from tqdm import tqdm\n",
    "from utils import mind"
   ]
  },
  {
   "cell_type": "code",
   "execution_count": 5,
   "metadata": {},
   "outputs": [
    {
     "data": {
      "text/plain": [
       "'/Users/joao.guedes/Workspace/metrecs/examples'"
      ]
     },
     "execution_count": 5,
     "metadata": {},
     "output_type": "execute_result"
    }
   ],
   "source": [
    "# os.chdir('./examples/')\n",
    "# os.getcwd()"
   ]
  },
  {
   "cell_type": "code",
   "execution_count": 2,
   "metadata": {},
   "outputs": [
    {
     "name": "stdout",
     "output_type": "stream",
     "text": [
      "Nr of unique articles 68392\n"
     ]
    }
   ],
   "source": [
    "SUFFIX = 'small'\n",
    "PATH_BEHAVIOURS = 'examples/MIND/behaviors_' + SUFFIX + '.tsv'\n",
    "PATH_ARTICLES = 'examples/MIND/articles_large_narrow.json'\n",
    "\n",
    "articles_df = mind.read_articles(path=PATH_ARTICLES)\n",
    "behaviors_presel_df = mind.read_behavior(path=PATH_BEHAVIOURS)"
   ]
  },
  {
   "cell_type": "code",
   "execution_count": 3,
   "metadata": {},
   "outputs": [
    {
     "data": {
      "text/html": [
       "<div>\n",
       "<style scoped>\n",
       "    .dataframe tbody tr th:only-of-type {\n",
       "        vertical-align: middle;\n",
       "    }\n",
       "\n",
       "    .dataframe tbody tr th {\n",
       "        vertical-align: top;\n",
       "    }\n",
       "\n",
       "    .dataframe thead th {\n",
       "        text-align: right;\n",
       "    }\n",
       "</style>\n",
       "<table border=\"1\" class=\"dataframe\">\n",
       "  <thead>\n",
       "    <tr style=\"text-align: right;\">\n",
       "      <th></th>\n",
       "      <th>_c0</th>\n",
       "      <th>newsid</th>\n",
       "      <th>title</th>\n",
       "      <th>category</th>\n",
       "      <th>subcategory</th>\n",
       "      <th>cat_subcat</th>\n",
       "      <th>abstract</th>\n",
       "      <th>publication_date</th>\n",
       "      <th>url</th>\n",
       "      <th>cat_as_list</th>\n",
       "    </tr>\n",
       "  </thead>\n",
       "  <tbody>\n",
       "    <tr>\n",
       "      <th>68387</th>\n",
       "      <td>68273</td>\n",
       "      <td>N15890</td>\n",
       "      <td>Watch Jessica Biel Admit She Was NOT a 'Huge' ...</td>\n",
       "      <td>video</td>\n",
       "      <td>popculture</td>\n",
       "      <td>[video, popculture]</td>\n",
       "      <td>Jessica was hilariously confronted by Jimmy Fa...</td>\n",
       "      <td>2019-10-23</td>\n",
       "      <td>https://assets.msn.com/labs/mind/AAJd7za.html</td>\n",
       "      <td>[video]</td>\n",
       "    </tr>\n",
       "    <tr>\n",
       "      <th>68388</th>\n",
       "      <td>68274</td>\n",
       "      <td>N34020</td>\n",
       "      <td>Anxious Democratic donors reportedly seeking a...</td>\n",
       "      <td>video</td>\n",
       "      <td>news</td>\n",
       "      <td>[video, news]</td>\n",
       "      <td>\"A new report in The New York Times details ho...</td>\n",
       "      <td>2019-10-23</td>\n",
       "      <td>https://assets.msn.com/labs/mind/AAJbrCj.html</td>\n",
       "      <td>[video]</td>\n",
       "    </tr>\n",
       "    <tr>\n",
       "      <th>68389</th>\n",
       "      <td>68275</td>\n",
       "      <td>N119744</td>\n",
       "      <td>CNN analyst advises Trump to go back to his fa...</td>\n",
       "      <td>video</td>\n",
       "      <td>news</td>\n",
       "      <td>[video, news]</td>\n",
       "      <td>\"CNN legal analyst and former federal prosecut...</td>\n",
       "      <td>2019-10-23</td>\n",
       "      <td>https://assets.msn.com/labs/mind/AAJbcRA.html</td>\n",
       "      <td>[video]</td>\n",
       "    </tr>\n",
       "    <tr>\n",
       "      <th>68390</th>\n",
       "      <td>68276</td>\n",
       "      <td>N119588</td>\n",
       "      <td>Salmon shortage threatening food chain in Paci...</td>\n",
       "      <td>video</td>\n",
       "      <td>news</td>\n",
       "      <td>[video, news]</td>\n",
       "      <td>CNN's Bill Weir reports.</td>\n",
       "      <td>2019-10-23</td>\n",
       "      <td>https://assets.msn.com/labs/mind/AAJbfNt.html</td>\n",
       "      <td>[video]</td>\n",
       "    </tr>\n",
       "    <tr>\n",
       "      <th>68391</th>\n",
       "      <td>68278</td>\n",
       "      <td>N33587</td>\n",
       "      <td>How Myles Garrett and Olivier Vernon are shari...</td>\n",
       "      <td>sports</td>\n",
       "      <td>football_nfl</td>\n",
       "      <td>[sports, football_nfl]</td>\n",
       "      <td>CLEVELAND, Ohio   Prior to this season we wond...</td>\n",
       "      <td>2019-10-22</td>\n",
       "      <td>https://assets.msn.com/labs/mind/AAJ7y4f.html</td>\n",
       "      <td>[sports]</td>\n",
       "    </tr>\n",
       "  </tbody>\n",
       "</table>\n",
       "</div>"
      ],
      "text/plain": [
       "         _c0   newsid                                              title  \\\n",
       "68387  68273   N15890  Watch Jessica Biel Admit She Was NOT a 'Huge' ...   \n",
       "68388  68274   N34020  Anxious Democratic donors reportedly seeking a...   \n",
       "68389  68275  N119744  CNN analyst advises Trump to go back to his fa...   \n",
       "68390  68276  N119588  Salmon shortage threatening food chain in Paci...   \n",
       "68391  68278   N33587  How Myles Garrett and Olivier Vernon are shari...   \n",
       "\n",
       "      category   subcategory              cat_subcat  \\\n",
       "68387    video    popculture     [video, popculture]   \n",
       "68388    video          news           [video, news]   \n",
       "68389    video          news           [video, news]   \n",
       "68390    video          news           [video, news]   \n",
       "68391   sports  football_nfl  [sports, football_nfl]   \n",
       "\n",
       "                                                abstract publication_date  \\\n",
       "68387  Jessica was hilariously confronted by Jimmy Fa...       2019-10-23   \n",
       "68388  \"A new report in The New York Times details ho...       2019-10-23   \n",
       "68389  \"CNN legal analyst and former federal prosecut...       2019-10-23   \n",
       "68390                           CNN's Bill Weir reports.       2019-10-23   \n",
       "68391  CLEVELAND, Ohio   Prior to this season we wond...       2019-10-22   \n",
       "\n",
       "                                                 url cat_as_list  \n",
       "68387  https://assets.msn.com/labs/mind/AAJd7za.html     [video]  \n",
       "68388  https://assets.msn.com/labs/mind/AAJbrCj.html     [video]  \n",
       "68389  https://assets.msn.com/labs/mind/AAJbcRA.html     [video]  \n",
       "68390  https://assets.msn.com/labs/mind/AAJbfNt.html     [video]  \n",
       "68391  https://assets.msn.com/labs/mind/AAJ7y4f.html    [sports]  "
      ]
     },
     "execution_count": 3,
     "metadata": {},
     "output_type": "execute_result"
    }
   ],
   "source": [
    "articles_df.tail()"
   ]
  },
  {
   "cell_type": "code",
   "execution_count": 4,
   "metadata": {},
   "outputs": [
    {
     "data": {
      "text/html": [
       "<div>\n",
       "<style scoped>\n",
       "    .dataframe tbody tr th:only-of-type {\n",
       "        vertical-align: middle;\n",
       "    }\n",
       "\n",
       "    .dataframe tbody tr th {\n",
       "        vertical-align: top;\n",
       "    }\n",
       "\n",
       "    .dataframe thead th {\n",
       "        text-align: right;\n",
       "    }\n",
       "</style>\n",
       "<table border=\"1\" class=\"dataframe\">\n",
       "  <thead>\n",
       "    <tr style=\"text-align: right;\">\n",
       "      <th></th>\n",
       "      <th>index</th>\n",
       "      <th>user</th>\n",
       "      <th>datetime</th>\n",
       "      <th>behavior_array</th>\n",
       "      <th>preselection_array</th>\n",
       "      <th>pool_array</th>\n",
       "    </tr>\n",
       "  </thead>\n",
       "  <tbody>\n",
       "    <tr>\n",
       "      <th>73147</th>\n",
       "      <td>73148</td>\n",
       "      <td>U77536</td>\n",
       "      <td>11/15/2019 8:40:16 PM</td>\n",
       "      <td>[N28691, N8845, N58434, N37120, N22185, N60033...</td>\n",
       "      <td>[N496-0, N35159-0, N59856-0, N13270-0, N47213-...</td>\n",
       "      <td>[N496, N35159, N59856, N13270, N47213, N26485,...</td>\n",
       "    </tr>\n",
       "    <tr>\n",
       "      <th>73148</th>\n",
       "      <td>73149</td>\n",
       "      <td>U56193</td>\n",
       "      <td>11/15/2019 1:11:26 PM</td>\n",
       "      <td>[N4705, N58782, N53531, N46492, N26026, N28088...</td>\n",
       "      <td>[N49285-0, N31958-0, N55237-0, N42844-0, N2986...</td>\n",
       "      <td>[N49285, N31958, N55237, N42844, N29862, N1999...</td>\n",
       "    </tr>\n",
       "    <tr>\n",
       "      <th>73149</th>\n",
       "      <td>73150</td>\n",
       "      <td>U16799</td>\n",
       "      <td>11/15/2019 3:37:06 PM</td>\n",
       "      <td>[N40826, N42078, N15670, N15295, N64536, N4684...</td>\n",
       "      <td>[N7043-0, N512-0, N60215-1, N45057-0, N496-0, ...</td>\n",
       "      <td>[N7043, N512, N60215, N45057, N496, N37055, N1...</td>\n",
       "    </tr>\n",
       "    <tr>\n",
       "      <th>73150</th>\n",
       "      <td>73151</td>\n",
       "      <td>U8786</td>\n",
       "      <td>11/15/2019 8:29:26 AM</td>\n",
       "      <td>[N3046, N356, N20483, N46107, N44598, N18693, ...</td>\n",
       "      <td>[N23692-0, N19990-0, N20187-0, N5940-0, N13408...</td>\n",
       "      <td>[N23692, N19990, N20187, N5940, N13408, N31958...</td>\n",
       "    </tr>\n",
       "    <tr>\n",
       "      <th>73151</th>\n",
       "      <td>73152</td>\n",
       "      <td>U68182</td>\n",
       "      <td>11/15/2019 11:54:34 AM</td>\n",
       "      <td>[N20297, N53568, N4690, N60608, N43709, N43123...</td>\n",
       "      <td>[N29862-0, N5472-0, N21679-1, N6400-0, N53572-...</td>\n",
       "      <td>[N29862, N5472, N21679, N6400, N53572, N50775,...</td>\n",
       "    </tr>\n",
       "  </tbody>\n",
       "</table>\n",
       "</div>"
      ],
      "text/plain": [
       "       index    user                datetime  \\\n",
       "73147  73148  U77536   11/15/2019 8:40:16 PM   \n",
       "73148  73149  U56193   11/15/2019 1:11:26 PM   \n",
       "73149  73150  U16799   11/15/2019 3:37:06 PM   \n",
       "73150  73151   U8786   11/15/2019 8:29:26 AM   \n",
       "73151  73152  U68182  11/15/2019 11:54:34 AM   \n",
       "\n",
       "                                          behavior_array  \\\n",
       "73147  [N28691, N8845, N58434, N37120, N22185, N60033...   \n",
       "73148  [N4705, N58782, N53531, N46492, N26026, N28088...   \n",
       "73149  [N40826, N42078, N15670, N15295, N64536, N4684...   \n",
       "73150  [N3046, N356, N20483, N46107, N44598, N18693, ...   \n",
       "73151  [N20297, N53568, N4690, N60608, N43709, N43123...   \n",
       "\n",
       "                                      preselection_array  \\\n",
       "73147  [N496-0, N35159-0, N59856-0, N13270-0, N47213-...   \n",
       "73148  [N49285-0, N31958-0, N55237-0, N42844-0, N2986...   \n",
       "73149  [N7043-0, N512-0, N60215-1, N45057-0, N496-0, ...   \n",
       "73150  [N23692-0, N19990-0, N20187-0, N5940-0, N13408...   \n",
       "73151  [N29862-0, N5472-0, N21679-1, N6400-0, N53572-...   \n",
       "\n",
       "                                              pool_array  \n",
       "73147  [N496, N35159, N59856, N13270, N47213, N26485,...  \n",
       "73148  [N49285, N31958, N55237, N42844, N29862, N1999...  \n",
       "73149  [N7043, N512, N60215, N45057, N496, N37055, N1...  \n",
       "73150  [N23692, N19990, N20187, N5940, N13408, N31958...  \n",
       "73151  [N29862, N5472, N21679, N6400, N53572, N50775,...  "
      ]
     },
     "execution_count": 4,
     "metadata": {},
     "output_type": "execute_result"
    }
   ],
   "source": [
    "behaviors_presel_df.tail()"
   ]
  },
  {
   "cell_type": "code",
   "execution_count": null,
   "metadata": {},
   "outputs": [],
   "source": []
  },
  {
   "cell_type": "code",
   "execution_count": 18,
   "metadata": {},
   "outputs": [],
   "source": []
  },
  {
   "cell_type": "code",
   "execution_count": 42,
   "metadata": {},
   "outputs": [
    {
     "data": {
      "text/html": [
       "<div>\n",
       "<style scoped>\n",
       "    .dataframe tbody tr th:only-of-type {\n",
       "        vertical-align: middle;\n",
       "    }\n",
       "\n",
       "    .dataframe tbody tr th {\n",
       "        vertical-align: top;\n",
       "    }\n",
       "\n",
       "    .dataframe thead th {\n",
       "        text-align: right;\n",
       "    }\n",
       "</style>\n",
       "<table border=\"1\" class=\"dataframe\">\n",
       "  <thead>\n",
       "    <tr style=\"text-align: right;\">\n",
       "      <th></th>\n",
       "      <th>newsid</th>\n",
       "    </tr>\n",
       "    <tr>\n",
       "      <th>user</th>\n",
       "      <th></th>\n",
       "    </tr>\n",
       "  </thead>\n",
       "  <tbody>\n",
       "    <tr>\n",
       "      <th>U9990</th>\n",
       "      <td>1</td>\n",
       "    </tr>\n",
       "    <tr>\n",
       "      <th>U9994</th>\n",
       "      <td>1</td>\n",
       "    </tr>\n",
       "    <tr>\n",
       "      <th>U9996</th>\n",
       "      <td>20</td>\n",
       "    </tr>\n",
       "    <tr>\n",
       "      <th>U9998</th>\n",
       "      <td>28</td>\n",
       "    </tr>\n",
       "    <tr>\n",
       "      <th>U9999</th>\n",
       "      <td>42</td>\n",
       "    </tr>\n",
       "  </tbody>\n",
       "</table>\n",
       "</div>"
      ],
      "text/plain": [
       "       newsid\n",
       "user         \n",
       "U9990       1\n",
       "U9994       1\n",
       "U9996      20\n",
       "U9998      28\n",
       "U9999      42"
      ]
     },
     "execution_count": 42,
     "metadata": {},
     "output_type": "execute_result"
    }
   ],
   "source": [
    "users_interactions_count_df = (\n",
    "    behaviors_presel_df[['user', 'behavior_array']]\n",
    "    .explode('behavior_array')\n",
    "    .rename({'behavior_array': 'newsid'}, axis=1)\n",
    "    .groupby('user')\n",
    "    .count()\n",
    ")\n",
    "\n",
    "users_interactions_count_df.tail()"
   ]
  },
  {
   "cell_type": "code",
   "execution_count": 46,
   "metadata": {},
   "outputs": [
    {
     "data": {
      "text/html": [
       "<div>\n",
       "<style scoped>\n",
       "    .dataframe tbody tr th:only-of-type {\n",
       "        vertical-align: middle;\n",
       "    }\n",
       "\n",
       "    .dataframe tbody tr th {\n",
       "        vertical-align: top;\n",
       "    }\n",
       "\n",
       "    .dataframe thead th {\n",
       "        text-align: right;\n",
       "    }\n",
       "</style>\n",
       "<table border=\"1\" class=\"dataframe\">\n",
       "  <thead>\n",
       "    <tr style=\"text-align: right;\">\n",
       "      <th></th>\n",
       "      <th>newsid</th>\n",
       "      <th>user</th>\n",
       "    </tr>\n",
       "  </thead>\n",
       "  <tbody>\n",
       "    <tr>\n",
       "      <th>68387</th>\n",
       "      <td>N15890</td>\n",
       "      <td>0.0</td>\n",
       "    </tr>\n",
       "    <tr>\n",
       "      <th>68388</th>\n",
       "      <td>N34020</td>\n",
       "      <td>0.0</td>\n",
       "    </tr>\n",
       "    <tr>\n",
       "      <th>68389</th>\n",
       "      <td>N119744</td>\n",
       "      <td>0.0</td>\n",
       "    </tr>\n",
       "    <tr>\n",
       "      <th>68390</th>\n",
       "      <td>N119588</td>\n",
       "      <td>0.0</td>\n",
       "    </tr>\n",
       "    <tr>\n",
       "      <th>68391</th>\n",
       "      <td>N33587</td>\n",
       "      <td>0.0</td>\n",
       "    </tr>\n",
       "  </tbody>\n",
       "</table>\n",
       "</div>"
      ],
      "text/plain": [
       "        newsid  user\n",
       "68387   N15890   0.0\n",
       "68388   N34020   0.0\n",
       "68389  N119744   0.0\n",
       "68390  N119588   0.0\n",
       "68391   N33587   0.0"
      ]
     },
     "execution_count": 46,
     "metadata": {},
     "output_type": "execute_result"
    }
   ],
   "source": [
    "items_interactions_count_df = (\n",
    "    behaviors_presel_df[['user', 'behavior_array']]\n",
    "    .explode('behavior_array')\n",
    "    .rename({'behavior_array': 'newsid'}, axis=1)\n",
    "    .groupby('newsid')\n",
    "    .count()\n",
    ")\n",
    "\n",
    "items_interactions_count_df = pd.merge(\n",
    "    articles_df[['newsid']],\n",
    "    items_interactions_count_df,\n",
    "    on='newsid',\n",
    "    how='left'\n",
    ").fillna(0)\n",
    "\n",
    "items_interactions_count_df.tail()"
   ]
  },
  {
   "cell_type": "code",
   "execution_count": 48,
   "metadata": {},
   "outputs": [
    {
     "name": "stderr",
     "output_type": "stream",
     "text": [
      "100%|██████████| 68391/68391 [00:03<00:00, 20767.61it/s]\n"
     ]
    }
   ],
   "source": [
    "n_users = behaviors_presel_df['user'].nunique()\n",
    "n_items = articles_df['newsid'].nunique()\n",
    "n_interactions = behaviors_presel_df['behavior_array'].explode().nunique()\n",
    "user_gini = gini_coefficient(users_interactions_count_df['newsid'].values)\n",
    "item_gini = gini_coefficient(items_interactions_count_df['user'].values)"
   ]
  },
  {
   "cell_type": "code",
   "execution_count": 50,
   "metadata": {},
   "outputs": [
    {
     "name": "stdout",
     "output_type": "stream",
     "text": [
      "Number of users: 50000\n",
      "Number of items: 68392\n",
      "Number of interactions: 37682\n",
      "Space Log: 6.533975308409208\n",
      "Shape Log: -0.1360352997371709\n",
      "Density Log: -4.957841363176031\n",
      "Overall Sparsity: 0.9999889805825243\n",
      "User Gini: 0.6765973475342618\n",
      "Item Gini: 0.9596907126510239\n"
     ]
    }
   ],
   "source": [
    "print ('Number of users:', n_users)\n",
    "print ('Number of items:', n_items)\n",
    "print ('Number of interactions:', n_interactions)\n",
    "print ('Space Log:', space_log(n_users, n_items))\n",
    "print ('Shape Log:', shape_log(n_users, n_items))\n",
    "print ('Density Log:', density_log(n_users, n_items, n_interactions))\n",
    "print ('Overall Sparsity:', 1-10**(density_log(n_users, n_items, n_interactions)))\n",
    "print ('User Gini:', user_gini)\n",
    "print ('Item Gini:', item_gini)"
   ]
  }
 ],
 "metadata": {
  "kernelspec": {
   "display_name": "gflow",
   "language": "python",
   "name": "python3"
  },
  "language_info": {
   "codemirror_mode": {
    "name": "ipython",
    "version": 3
   },
   "file_extension": ".py",
   "mimetype": "text/x-python",
   "name": "python",
   "nbconvert_exporter": "python",
   "pygments_lexer": "ipython3",
   "version": "3.7.10"
  },
  "orig_nbformat": 4
 },
 "nbformat": 4,
 "nbformat_minor": 2
}
